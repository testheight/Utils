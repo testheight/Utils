{
 "cells": [
  {
   "cell_type": "code",
   "execution_count": 7,
   "metadata": {},
   "outputs": [],
   "source": [
    "from tkinter import *\n",
    "from tkinter import messagebox\n",
    "\n",
    "\n",
    "root = Tk()\n",
    "root.title(\"FIRST\")         # 程序标题\n",
    "root.geometry(\"500x300+100+200\")        # 程序窗口大小设置500x300  位置+100+200\n",
    "\n",
    "bt1 = Button(root)          # 添加按键\n",
    "bt1[\"text\"] = \"测试\"        # 按键名称\n",
    "bt1.pack()\n",
    "\n",
    "def fun(e):\n",
    "    messagebox.showinfo('Message','正在测试')\n",
    "bt1.bind(\"<Button-1>\",fun)  # 按键链接\n",
    "\n",
    "root.mainloop()"
   ]
  },
  {
   "cell_type": "code",
   "execution_count": null,
   "metadata": {},
   "outputs": [],
   "source": []
  }
 ],
 "metadata": {
  "kernelspec": {
   "display_name": "mseg",
   "language": "python",
   "name": "python3"
  },
  "language_info": {
   "codemirror_mode": {
    "name": "ipython",
    "version": 3
   },
   "file_extension": ".py",
   "mimetype": "text/x-python",
   "name": "python",
   "nbconvert_exporter": "python",
   "pygments_lexer": "ipython3",
   "version": "3.11.3"
  },
  "orig_nbformat": 4
 },
 "nbformat": 4,
 "nbformat_minor": 2
}
