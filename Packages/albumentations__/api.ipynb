{
 "cells": [
  {
   "cell_type": "code",
   "execution_count": 2,
   "metadata": {},
   "outputs": [
    {
     "ename": "AttributeError",
     "evalue": "'NoneType' object has no attribute 'shape'",
     "output_type": "error",
     "traceback": [
      "\u001b[1;31m---------------------------------------------------------------------------\u001b[0m",
      "\u001b[1;31mAttributeError\u001b[0m                            Traceback (most recent call last)",
      "Cell \u001b[1;32mIn[2], line 13\u001b[0m\n\u001b[0;32m     10\u001b[0m image \u001b[39m=\u001b[39m cv2\u001b[39m.\u001b[39mimread(\u001b[39mr\u001b[39m\u001b[39m\"\u001b[39m\u001b[39mD:\u001b[39m\u001b[39m\\\u001b[39m\u001b[39msoftware\u001b[39m\u001b[39m\\\u001b[39m\u001b[39mCode\u001b[39m\u001b[39m\\\u001b[39m\u001b[39mcodefile\u001b[39m\u001b[39m\\\u001b[39m\u001b[39mUtils\u001b[39m\u001b[39m\\\u001b[39m\u001b[39mimage_result\u001b[39m\u001b[39m\\\u001b[39m\u001b[39ml_s\u001b[39m\u001b[39m\\\u001b[39m\u001b[39m1_2_6.png\u001b[39m\u001b[39m\"\u001b[39m)\n\u001b[0;32m     11\u001b[0m \u001b[39m# image = cv2.cvtColor(image, cv2.COLOR_BGR2RGB)\u001b[39;00m\n\u001b[0;32m     12\u001b[0m \u001b[39m# Augment an image\u001b[39;00m\n\u001b[1;32m---> 13\u001b[0m transformed \u001b[39m=\u001b[39m A\u001b[39m.\u001b[39mCoarseDropout(max_holes\u001b[39m=\u001b[39m\u001b[39m20\u001b[39m, max_height\u001b[39m=\u001b[39m\u001b[39m50\u001b[39m, max_width\u001b[39m=\u001b[39m\u001b[39m50\u001b[39m, fill_value\u001b[39m=\u001b[39m\u001b[39m0\u001b[39m, p\u001b[39m=\u001b[39m\u001b[39m1\u001b[39m)(image\u001b[39m=\u001b[39mimage)\n\u001b[0;32m     14\u001b[0m transformed_image \u001b[39m=\u001b[39m transformed[\u001b[39m\"\u001b[39m\u001b[39mimage\u001b[39m\u001b[39m\"\u001b[39m]\n\u001b[0;32m     15\u001b[0m plt\u001b[39m.\u001b[39msubplot(\u001b[39m1\u001b[39m, \u001b[39m2\u001b[39m, \u001b[39m1\u001b[39m)\n",
      "File \u001b[1;32md:\\software\\Code\\anaconda3\\envs\\demo\\Lib\\site-packages\\albumentations\\core\\transforms_interface.py:109\u001b[0m, in \u001b[0;36mBasicTransform.__call__\u001b[1;34m(self, force_apply, *args, **kwargs)\u001b[0m\n\u001b[0;32m    105\u001b[0m     \u001b[39massert\u001b[39;00m \u001b[39mall\u001b[39m(key \u001b[39min\u001b[39;00m kwargs \u001b[39mfor\u001b[39;00m key \u001b[39min\u001b[39;00m \u001b[39mself\u001b[39m\u001b[39m.\u001b[39mtargets_as_params), \u001b[39m\"\u001b[39m\u001b[39m{}\u001b[39;00m\u001b[39m requires \u001b[39m\u001b[39m{}\u001b[39;00m\u001b[39m\"\u001b[39m\u001b[39m.\u001b[39mformat(\n\u001b[0;32m    106\u001b[0m         \u001b[39mself\u001b[39m\u001b[39m.\u001b[39m\u001b[39m__class__\u001b[39m\u001b[39m.\u001b[39m\u001b[39m__name__\u001b[39m, \u001b[39mself\u001b[39m\u001b[39m.\u001b[39mtargets_as_params\n\u001b[0;32m    107\u001b[0m     )\n\u001b[0;32m    108\u001b[0m     targets_as_params \u001b[39m=\u001b[39m {k: kwargs[k] \u001b[39mfor\u001b[39;00m k \u001b[39min\u001b[39;00m \u001b[39mself\u001b[39m\u001b[39m.\u001b[39mtargets_as_params}\n\u001b[1;32m--> 109\u001b[0m     params_dependent_on_targets \u001b[39m=\u001b[39m \u001b[39mself\u001b[39m\u001b[39m.\u001b[39mget_params_dependent_on_targets(targets_as_params)\n\u001b[0;32m    110\u001b[0m     params\u001b[39m.\u001b[39mupdate(params_dependent_on_targets)\n\u001b[0;32m    111\u001b[0m \u001b[39mif\u001b[39;00m \u001b[39mself\u001b[39m\u001b[39m.\u001b[39mdeterministic:\n",
      "File \u001b[1;32md:\\software\\Code\\anaconda3\\envs\\demo\\Lib\\site-packages\\albumentations\\augmentations\\dropout\\coarse_dropout.py:111\u001b[0m, in \u001b[0;36mCoarseDropout.get_params_dependent_on_targets\u001b[1;34m(self, params)\u001b[0m\n\u001b[0;32m    109\u001b[0m \u001b[39mdef\u001b[39;00m \u001b[39mget_params_dependent_on_targets\u001b[39m(\u001b[39mself\u001b[39m, params):\n\u001b[0;32m    110\u001b[0m     img \u001b[39m=\u001b[39m params[\u001b[39m\"\u001b[39m\u001b[39mimage\u001b[39m\u001b[39m\"\u001b[39m]\n\u001b[1;32m--> 111\u001b[0m     height, width \u001b[39m=\u001b[39m img\u001b[39m.\u001b[39mshape[:\u001b[39m2\u001b[39m]\n\u001b[0;32m    113\u001b[0m     holes \u001b[39m=\u001b[39m []\n\u001b[0;32m    114\u001b[0m     \u001b[39mfor\u001b[39;00m _n \u001b[39min\u001b[39;00m \u001b[39mrange\u001b[39m(random\u001b[39m.\u001b[39mrandint(\u001b[39mself\u001b[39m\u001b[39m.\u001b[39mmin_holes, \u001b[39mself\u001b[39m\u001b[39m.\u001b[39mmax_holes)):\n",
      "\u001b[1;31mAttributeError\u001b[0m: 'NoneType' object has no attribute 'shape'"
     ]
    }
   ],
   "source": [
    "import albumentations as A\n",
    "import cv2\n",
    "import numpy as np\n",
    "import matplotlib.pyplot as plt\n",
    " \n",
    "# 解决中文显示问题\n",
    "plt.rcParams['font.sans-serif'] = ['SimHei']\n",
    "plt.rcParams['axes.unicode_minus'] = False\n",
    "# Read an image with OpenCV and convert it to the RGB colorspace\n",
    "image = cv2.imread(r\"D:\\software\\Code\\codefile\\Utils\\image_result\\l_s\\1_2_6.png\")\n",
    "# image = cv2.cvtColor(image, cv2.COLOR_BGR2RGB)\n",
    "# Augment an image\n",
    "transformed = A.CoarseDropout(max_holes=20, max_height=50, max_width=50, fill_value=0, p=1)(image=image)\n",
    "transformed_image = transformed[\"image\"]\n",
    "plt.subplot(1, 2, 1)\n",
    "plt.title('原图')  # 第一幅图片标题\n",
    "plt.imshow(image)\n",
    "plt.subplot(1, 2, 2)\n",
    "plt.title(\"Cutout后的图像\")\n",
    "plt.imshow(transformed_image)\n",
    "plt.show()\n"
   ]
  },
  {
   "cell_type": "code",
   "execution_count": 6,
   "metadata": {},
   "outputs": [
    {
     "name": "stderr",
     "output_type": "stream",
     "text": [
      "100%|██████████| 9587/9587 [00:45<00:00, 208.95it/s]\n"
     ]
    }
   ],
   "source": [
    "import cv2,os\n",
    "import numpy as np\n",
    "from tqdm import *\n",
    "import albumentations as A\n",
    "\n",
    "def random_mask(i,o):\n",
    "    if not os.path.exists(o):\n",
    "        os.makedirs(o)\n",
    "    for name in tqdm(os.listdir(i)):\n",
    "        img_path = os.path.join(i,name)\n",
    "        save_path = os.path.join(o,name)\n",
    "        image = cv2.imread(img_path)\n",
    "\n",
    "        transformed = A.CoarseDropout(max_holes=20,min_holes=10, max_height=100, max_width=100,min_height=30, min_width=35, fill_value=0, p=1)(image=image)\n",
    "        transformed_image = transformed[\"image\"]\n",
    "        cv2.imwrite(save_path,transformed_image)\n",
    "i = r'D:\\software\\Code\\codefile\\Utils\\image_result\\l_s'\n",
    "o = r'D:\\software\\Code\\codefile\\Utils\\image_result\\l_s_mask'\n",
    "random_mask(i,o)"
   ]
  }
 ],
 "metadata": {
  "kernelspec": {
   "display_name": "demo1",
   "language": "python",
   "name": "python3"
  },
  "language_info": {
   "codemirror_mode": {
    "name": "ipython",
    "version": 3
   },
   "file_extension": ".py",
   "mimetype": "text/x-python",
   "name": "python",
   "nbconvert_exporter": "python",
   "pygments_lexer": "ipython3",
   "version": "3.11.3"
  },
  "orig_nbformat": 4
 },
 "nbformat": 4,
 "nbformat_minor": 2
}
