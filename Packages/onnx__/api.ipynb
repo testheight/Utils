{
 "cells": [
  {
   "cell_type": "code",
   "execution_count": 3,
   "metadata": {},
   "outputs": [
    {
     "ename": "AttributeError",
     "evalue": "'function' object has no attribute 'modules'",
     "output_type": "error",
     "traceback": [
      "\u001b[1;31m---------------------------------------------------------------------------\u001b[0m",
      "\u001b[1;31mAttributeError\u001b[0m                            Traceback (most recent call last)",
      "Cell \u001b[1;32mIn[3], line 16\u001b[0m\n\u001b[0;32m     14\u001b[0m net \u001b[39m=\u001b[39m unet_smp\n\u001b[0;32m     15\u001b[0m x \u001b[39m=\u001b[39m torch\u001b[39m.\u001b[39mrandn(\u001b[39m1\u001b[39m, \u001b[39m3\u001b[39m, \u001b[39m512\u001b[39m, \u001b[39m512\u001b[39m)\n\u001b[1;32m---> 16\u001b[0m torch_out \u001b[39m=\u001b[39m torch\u001b[39m.\u001b[39;49monnx\u001b[39m.\u001b[39;49mexport(net,\n\u001b[0;32m     17\u001b[0m                             x,\n\u001b[0;32m     18\u001b[0m                             \u001b[39m\"\u001b[39;49m\u001b[39mtest.onnx\u001b[39;49m\u001b[39m\"\u001b[39;49m,\n\u001b[0;32m     19\u001b[0m                             verbose\u001b[39m=\u001b[39;49m\u001b[39mTrue\u001b[39;49;00m,\n\u001b[0;32m     20\u001b[0m                             export_params\u001b[39m=\u001b[39;49m\u001b[39mTrue\u001b[39;49;00m\n\u001b[0;32m     21\u001b[0m                             )\n",
      "File \u001b[1;32mc:\\Users\\31890\\.conda\\envs\\menv\\Lib\\site-packages\\torch\\onnx\\utils.py:506\u001b[0m, in \u001b[0;36mexport\u001b[1;34m(model, args, f, export_params, verbose, training, input_names, output_names, operator_export_type, opset_version, do_constant_folding, dynamic_axes, keep_initializers_as_inputs, custom_opsets, export_modules_as_functions)\u001b[0m\n\u001b[0;32m    188\u001b[0m \u001b[39m@_beartype\u001b[39m\u001b[39m.\u001b[39mbeartype\n\u001b[0;32m    189\u001b[0m \u001b[39mdef\u001b[39;00m \u001b[39mexport\u001b[39m(\n\u001b[0;32m    190\u001b[0m     model: Union[torch\u001b[39m.\u001b[39mnn\u001b[39m.\u001b[39mModule, torch\u001b[39m.\u001b[39mjit\u001b[39m.\u001b[39mScriptModule, torch\u001b[39m.\u001b[39mjit\u001b[39m.\u001b[39mScriptFunction],\n\u001b[1;32m   (...)\u001b[0m\n\u001b[0;32m    206\u001b[0m     export_modules_as_functions: Union[\u001b[39mbool\u001b[39m, Collection[Type[torch\u001b[39m.\u001b[39mnn\u001b[39m.\u001b[39mModule]]] \u001b[39m=\u001b[39m \u001b[39mFalse\u001b[39;00m,\n\u001b[0;32m    207\u001b[0m ) \u001b[39m-\u001b[39m\u001b[39m>\u001b[39m \u001b[39mNone\u001b[39;00m:\n\u001b[0;32m    208\u001b[0m \u001b[39m    \u001b[39m\u001b[39mr\u001b[39m\u001b[39m\"\"\"Exports a model into ONNX format.\u001b[39;00m\n\u001b[0;32m    209\u001b[0m \n\u001b[0;32m    210\u001b[0m \u001b[39m    If ``model`` is not a :class:`torch.jit.ScriptModule` nor a\u001b[39;00m\n\u001b[1;32m   (...)\u001b[0m\n\u001b[0;32m    503\u001b[0m \u001b[39m            All errors are subclasses of :class:`errors.OnnxExporterError`.\u001b[39;00m\n\u001b[0;32m    504\u001b[0m \u001b[39m    \"\"\"\u001b[39;00m\n\u001b[1;32m--> 506\u001b[0m     _export(\n\u001b[0;32m    507\u001b[0m         model,\n\u001b[0;32m    508\u001b[0m         args,\n\u001b[0;32m    509\u001b[0m         f,\n\u001b[0;32m    510\u001b[0m         export_params,\n\u001b[0;32m    511\u001b[0m         verbose,\n\u001b[0;32m    512\u001b[0m         training,\n\u001b[0;32m    513\u001b[0m         input_names,\n\u001b[0;32m    514\u001b[0m         output_names,\n\u001b[0;32m    515\u001b[0m         operator_export_type\u001b[39m=\u001b[39;49moperator_export_type,\n\u001b[0;32m    516\u001b[0m         opset_version\u001b[39m=\u001b[39;49mopset_version,\n\u001b[0;32m    517\u001b[0m         do_constant_folding\u001b[39m=\u001b[39;49mdo_constant_folding,\n\u001b[0;32m    518\u001b[0m         dynamic_axes\u001b[39m=\u001b[39;49mdynamic_axes,\n\u001b[0;32m    519\u001b[0m         keep_initializers_as_inputs\u001b[39m=\u001b[39;49mkeep_initializers_as_inputs,\n\u001b[0;32m    520\u001b[0m         custom_opsets\u001b[39m=\u001b[39;49mcustom_opsets,\n\u001b[0;32m    521\u001b[0m         export_modules_as_functions\u001b[39m=\u001b[39;49mexport_modules_as_functions,\n\u001b[0;32m    522\u001b[0m     )\n",
      "File \u001b[1;32mc:\\Users\\31890\\.conda\\envs\\menv\\Lib\\site-packages\\torch\\onnx\\utils.py:1525\u001b[0m, in \u001b[0;36m_export\u001b[1;34m(model, args, f, export_params, verbose, training, input_names, output_names, operator_export_type, export_type, opset_version, do_constant_folding, dynamic_axes, keep_initializers_as_inputs, fixed_batch_size, custom_opsets, add_node_names, onnx_shape_inference, export_modules_as_functions)\u001b[0m\n\u001b[0;32m   1520\u001b[0m \u001b[39mif\u001b[39;00m \u001b[39misinstance\u001b[39m(model, (torch\u001b[39m.\u001b[39mnn\u001b[39m.\u001b[39mModule, torch\u001b[39m.\u001b[39mjit\u001b[39m.\u001b[39mScriptModule)):\n\u001b[0;32m   1521\u001b[0m     module_typenames_to_export_as_functions \u001b[39m=\u001b[39m _setup_trace_module_map(\n\u001b[0;32m   1522\u001b[0m         model, export_modules_as_functions\n\u001b[0;32m   1523\u001b[0m     )\n\u001b[1;32m-> 1525\u001b[0m \u001b[39mwith\u001b[39;49;00m exporter_context(model, training, verbose):\n\u001b[0;32m   1526\u001b[0m     val_keep_init_as_ip \u001b[39m=\u001b[39;49m _decide_keep_init_as_input(\n\u001b[0;32m   1527\u001b[0m         keep_initializers_as_inputs,\n\u001b[0;32m   1528\u001b[0m         operator_export_type,\n\u001b[0;32m   1529\u001b[0m         opset_version,\n\u001b[0;32m   1530\u001b[0m     )\n\u001b[0;32m   1531\u001b[0m     val_add_node_names \u001b[39m=\u001b[39;49m _decide_add_node_names(\n\u001b[0;32m   1532\u001b[0m         add_node_names, operator_export_type\n\u001b[0;32m   1533\u001b[0m     )\n",
      "File \u001b[1;32mc:\\Users\\31890\\.conda\\envs\\menv\\Lib\\contextlib.py:137\u001b[0m, in \u001b[0;36m_GeneratorContextManager.__enter__\u001b[1;34m(self)\u001b[0m\n\u001b[0;32m    135\u001b[0m \u001b[39mdel\u001b[39;00m \u001b[39mself\u001b[39m\u001b[39m.\u001b[39margs, \u001b[39mself\u001b[39m\u001b[39m.\u001b[39mkwds, \u001b[39mself\u001b[39m\u001b[39m.\u001b[39mfunc\n\u001b[0;32m    136\u001b[0m \u001b[39mtry\u001b[39;00m:\n\u001b[1;32m--> 137\u001b[0m     \u001b[39mreturn\u001b[39;00m \u001b[39mnext\u001b[39m(\u001b[39mself\u001b[39m\u001b[39m.\u001b[39mgen)\n\u001b[0;32m    138\u001b[0m \u001b[39mexcept\u001b[39;00m \u001b[39mStopIteration\u001b[39;00m:\n\u001b[0;32m    139\u001b[0m     \u001b[39mraise\u001b[39;00m \u001b[39mRuntimeError\u001b[39;00m(\u001b[39m\"\u001b[39m\u001b[39mgenerator didn\u001b[39m\u001b[39m'\u001b[39m\u001b[39mt yield\u001b[39m\u001b[39m\"\u001b[39m) \u001b[39mfrom\u001b[39;00m \u001b[39mNone\u001b[39;00m\n",
      "File \u001b[1;32mc:\\Users\\31890\\.conda\\envs\\menv\\Lib\\site-packages\\torch\\onnx\\utils.py:178\u001b[0m, in \u001b[0;36mexporter_context\u001b[1;34m(model, mode, verbose)\u001b[0m\n\u001b[0;32m    175\u001b[0m \u001b[39m@contextlib\u001b[39m\u001b[39m.\u001b[39mcontextmanager\n\u001b[0;32m    176\u001b[0m \u001b[39m@_beartype\u001b[39m\u001b[39m.\u001b[39mbeartype\n\u001b[0;32m    177\u001b[0m \u001b[39mdef\u001b[39;00m \u001b[39mexporter_context\u001b[39m(model, mode: _C_onnx\u001b[39m.\u001b[39mTrainingMode, verbose: \u001b[39mbool\u001b[39m):\n\u001b[1;32m--> 178\u001b[0m     \u001b[39mwith\u001b[39;49;00m select_model_mode_for_export(\n\u001b[0;32m    179\u001b[0m         model, mode\n\u001b[0;32m    180\u001b[0m     ) \u001b[39mas\u001b[39;49;00m mode_ctx, disable_apex_o2_state_dict_hook(\n\u001b[0;32m    181\u001b[0m         model\n\u001b[0;32m    182\u001b[0m     ) \u001b[39mas\u001b[39;49;00m apex_ctx, setup_onnx_logging(\n\u001b[0;32m    183\u001b[0m         verbose\n\u001b[0;32m    184\u001b[0m     ) \u001b[39mas\u001b[39;49;00m log_ctx, diagnostics\u001b[39m.\u001b[39;49mcreate_export_diagnostic_context() \u001b[39mas\u001b[39;49;00m diagnostic_ctx:\n\u001b[0;32m    185\u001b[0m         \u001b[39myield\u001b[39;49;00m (mode_ctx, apex_ctx, log_ctx, diagnostic_ctx)\n",
      "File \u001b[1;32mc:\\Users\\31890\\.conda\\envs\\menv\\Lib\\contextlib.py:137\u001b[0m, in \u001b[0;36m_GeneratorContextManager.__enter__\u001b[1;34m(self)\u001b[0m\n\u001b[0;32m    135\u001b[0m \u001b[39mdel\u001b[39;00m \u001b[39mself\u001b[39m\u001b[39m.\u001b[39margs, \u001b[39mself\u001b[39m\u001b[39m.\u001b[39mkwds, \u001b[39mself\u001b[39m\u001b[39m.\u001b[39mfunc\n\u001b[0;32m    136\u001b[0m \u001b[39mtry\u001b[39;00m:\n\u001b[1;32m--> 137\u001b[0m     \u001b[39mreturn\u001b[39;00m \u001b[39mnext\u001b[39m(\u001b[39mself\u001b[39m\u001b[39m.\u001b[39mgen)\n\u001b[0;32m    138\u001b[0m \u001b[39mexcept\u001b[39;00m \u001b[39mStopIteration\u001b[39;00m:\n\u001b[0;32m    139\u001b[0m     \u001b[39mraise\u001b[39;00m \u001b[39mRuntimeError\u001b[39;00m(\u001b[39m\"\u001b[39m\u001b[39mgenerator didn\u001b[39m\u001b[39m'\u001b[39m\u001b[39mt yield\u001b[39m\u001b[39m\"\u001b[39m) \u001b[39mfrom\u001b[39;00m \u001b[39mNone\u001b[39;00m\n",
      "File \u001b[1;32mc:\\Users\\31890\\.conda\\envs\\menv\\Lib\\site-packages\\torch\\onnx\\utils.py:139\u001b[0m, in \u001b[0;36mdisable_apex_o2_state_dict_hook\u001b[1;34m(model)\u001b[0m\n\u001b[0;32m    137\u001b[0m \u001b[39mif\u001b[39;00m \u001b[39mnot\u001b[39;00m \u001b[39misinstance\u001b[39m(model, torch\u001b[39m.\u001b[39mjit\u001b[39m.\u001b[39mScriptFunction):\n\u001b[0;32m    138\u001b[0m     model_hooks \u001b[39m=\u001b[39m {}  \u001b[39m# type: ignore[var-annotated]\u001b[39;00m\n\u001b[1;32m--> 139\u001b[0m     \u001b[39mfor\u001b[39;00m module \u001b[39min\u001b[39;00m model\u001b[39m.\u001b[39;49mmodules():\n\u001b[0;32m    140\u001b[0m         \u001b[39mfor\u001b[39;00m key, hook \u001b[39min\u001b[39;00m module\u001b[39m.\u001b[39m_state_dict_hooks\u001b[39m.\u001b[39mitems():\n\u001b[0;32m    141\u001b[0m             \u001b[39mif\u001b[39;00m \u001b[39mtype\u001b[39m(hook)\u001b[39m.\u001b[39m\u001b[39m__name__\u001b[39m \u001b[39m==\u001b[39m \u001b[39m\"\u001b[39m\u001b[39mO2StateDictHook\u001b[39m\u001b[39m\"\u001b[39m:\n",
      "\u001b[1;31mAttributeError\u001b[0m: 'function' object has no attribute 'modules'"
     ]
    }
   ],
   "source": [
    "import torch,onnx\n",
    "\n",
    "## 生成onnx模型\n",
    "net = unet_smp\n",
    "x = torch.randn(1, 3, 512, 512)\n",
    "torch_out = torch.onnx.export(net,\n",
    "                            x,\n",
    "                            \"test.onnx\",\n",
    "                            verbose=True,\n",
    "                            export_params=True\n",
    "                            )"
   ]
  },
  {
   "cell_type": "code",
   "execution_count": null,
   "metadata": {},
   "outputs": [],
   "source": [
    "import torch\n",
    "import timm\n",
    "\n",
    "net = timm.create_model('mobilenetv2_035', pretrained=False)\n",
    "model_name = 'mobilenetv2_035.onnx'#保存ONNX的文件名字\n",
    "dummy_input = torch.randn(1, 3, 256, 256)\n",
    "torch.onnx.export(net, dummy_input, model_name, input_names=['input'], output_names=['output'])"
   ]
  },
  {
   "cell_type": "code",
   "execution_count": 4,
   "metadata": {},
   "outputs": [
    {
     "name": "stderr",
     "output_type": "stream",
     "text": [
      "C:\\Users\\31890\\AppData\\Local\\Temp\\ipykernel_14368\\2314818918.py:12: TracerWarning: Converting a tensor to a Python integer might cause the trace to be incorrect. We can't record the data flow of Python values, so this value will be treated as a constant in the future. This means that the trace might not generalize to other inputs!\n",
      "  return x.view(-1,int(x.numel()//x.size(0)))\n"
     ]
    },
    {
     "name": "stdout",
     "output_type": "stream",
     "text": [
      "============== Diagnostic Run torch.onnx.export version 2.0.1+cpu ==============\n",
      "verbose: False, log level: Level.ERROR\n",
      "======================= 0 NONE 0 NOTE 0 WARNING 0 ERROR ========================\n",
      "\n"
     ]
    }
   ],
   "source": [
    "import torch\n",
    "import torch.nn as nn\n",
    "\n",
    "class Model(nn.Module):\n",
    "    def __init__(self, *args, **kwargs) -> None:\n",
    "        super().__init__(*args, **kwargs)\n",
    "        self.conv = nn.Conv2d(1,1,3,stride=1,padding=1,bias=True)\n",
    "        self.conv.weight.data.fill_(0.3)\n",
    "        self.conv.bias.data.fill_(0.2)\n",
    "    def forward(self,x):\n",
    "        x = self.conv(x)\n",
    "        return x.view(-1,int(x.numel()//x.size(0)))\n",
    "\n",
    "model = Model().eval()\n",
    "x = torch.full((1,1,3,3),1.0)\n",
    "y = model(x)\n",
    "\n",
    "torch.onnx.export(\n",
    "    model,(x,),\"lessonl.onnx\",verbose=True\n",
    ")"
   ]
  }
 ],
 "metadata": {
  "kernelspec": {
   "display_name": "demo1",
   "language": "python",
   "name": "python3"
  },
  "language_info": {
   "codemirror_mode": {
    "name": "ipython",
    "version": 3
   },
   "file_extension": ".py",
   "mimetype": "text/x-python",
   "name": "python",
   "nbconvert_exporter": "python",
   "pygments_lexer": "ipython3",
   "version": "3.11.3"
  },
  "orig_nbformat": 4
 },
 "nbformat": 4,
 "nbformat_minor": 2
}
