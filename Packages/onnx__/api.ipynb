{
 "cells": [
  {
   "cell_type": "code",
   "execution_count": 2,
   "metadata": {},
   "outputs": [],
   "source": [
    "import torch\n",
    "import segmentation_models_pytorch as smp\n",
    "\n",
    "## 生成onnx模型\n",
    "def unet_smp(num_classes=2):\n",
    "    model = smp.Unet(\n",
    "        encoder_name=\"resnet34\",        # choose encoder, e.g. mobilenet_v2 or efficientnet-b7\n",
    "        encoder_weights=\"imagenet\",     # use `imagenet` pre-trained weights for encoder initialization\n",
    "        in_channels=3,                  # model input channels (1 for gray-scale images, 3 for RGB, etc.)\n",
    "        classes=num_classes,                      # model output channels (number of classes in your dataset)\n",
    "    )\n",
    "    return model\n",
    "net = unet_smp"
   ]
  },
  {
   "cell_type": "code",
   "execution_count": null,
   "metadata": {},
   "outputs": [],
   "source": [
    "import torch\n",
    "import timm\n",
    "\n",
    "net = timm.create_model('mobilenetv2_035', pretrained=False)\n",
    "model_name = 'mobilenetv2_035.onnx'#保存ONNX的文件名字\n",
    "dummy_input = torch.randn(1, 3, 256, 256)\n",
    "torch.onnx.export(net, dummy_input, model_name, input_names=['input'], output_names=['output'])"
   ]
  },
  {
   "cell_type": "code",
   "execution_count": 4,
   "metadata": {},
   "outputs": [
    {
     "name": "stderr",
     "output_type": "stream",
     "text": [
      "C:\\Users\\31890\\AppData\\Local\\Temp\\ipykernel_14368\\2314818918.py:12: TracerWarning: Converting a tensor to a Python integer might cause the trace to be incorrect. We can't record the data flow of Python values, so this value will be treated as a constant in the future. This means that the trace might not generalize to other inputs!\n",
      "  return x.view(-1,int(x.numel()//x.size(0)))\n"
     ]
    },
    {
     "name": "stdout",
     "output_type": "stream",
     "text": [
      "============== Diagnostic Run torch.onnx.export version 2.0.1+cpu ==============\n",
      "verbose: False, log level: Level.ERROR\n",
      "======================= 0 NONE 0 NOTE 0 WARNING 0 ERROR ========================\n",
      "\n"
     ]
    }
   ],
   "source": [
    "import torch\n",
    "import torch.nn as nn\n",
    "\n",
    "class Model(nn.Module):\n",
    "    def __init__(self, *args, **kwargs) -> None:\n",
    "        super().__init__(*args, **kwargs)\n",
    "        self.conv = nn.Conv2d(1,1,3,stride=1,padding=1,bias=True)\n",
    "        self.conv.weight.data.fill_(0.3)\n",
    "        self.conv.bias.data.fill_(0.2)\n",
    "    def forward(self,x):\n",
    "        x = self.conv(x)\n",
    "        return x.view(-1,int(x.numel()//x.size(0)))\n",
    "\n",
    "model = Model().eval()\n",
    "x = torch.full((1,1,3,3),1.0)\n",
    "y = model(x)\n",
    "\n",
    "torch.onnx.export(\n",
    "    model,(x,),\"lessonl.onnx\",verbose=True\n",
    ")"
   ]
  }
 ],
 "metadata": {
  "kernelspec": {
   "display_name": "demo1",
   "language": "python",
   "name": "python3"
  },
  "language_info": {
   "codemirror_mode": {
    "name": "ipython",
    "version": 3
   },
   "file_extension": ".py",
   "mimetype": "text/x-python",
   "name": "python",
   "nbconvert_exporter": "python",
   "pygments_lexer": "ipython3",
   "version": "3.11.3"
  },
  "orig_nbformat": 4
 },
 "nbformat": 4,
 "nbformat_minor": 2
}
