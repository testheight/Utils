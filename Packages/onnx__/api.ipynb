{
 "cells": [
  {
   "cell_type": "markdown",
   "metadata": {},
   "source": [
    "#### onnx生成"
   ]
  },
  {
   "cell_type": "markdown",
   "metadata": {},
   "source": [
    "搭建onnx"
   ]
  },
  {
   "cell_type": "code",
   "execution_count": null,
   "metadata": {},
   "outputs": [],
   "source": [
    "import onnx\n",
    "from onnx import helper\n",
    "from onnx import TensorProto\n",
    "import numpy as np\n",
    "\n",
    "### 搭建onnx模型\n",
    "weight = np.random.randn(36)\n",
    "X = helper.make_tensor_value_info('X', TensorProto.FLOAT, [1, 2, 4, 4])\n",
    "W = helper.make_tensor('W', TensorProto.FLOAT, [2, 2, 3, 3], weight)\n",
    "B = helper.make_tensor('B', TensorProto.FLOAT, [2], [1.0, 2.0])\n",
    "Y = helper.make_tensor_value_info('Y', TensorProto.FLOAT, [1, 2, 2, 2])\n",
    "node_def = helper.make_node(\n",
    "'Conv', # node name\n",
    "['X', 'W', 'B'],\n",
    "['Y'], # outputs\n",
    "# attributes\n",
    "strides=[2,2],\n",
    ")\n",
    "graph_def = helper.make_graph(\n",
    "[node_def],\n",
    "'test_conv_mode',\n",
    "[X], # graph inputs\n",
    "[Y], # graph outputs\n",
    "initializer=[W, B],\n",
    ")\n",
    "mode_def = helper.make_model(graph_def, producer_name='onnx-example')\n",
    "onnx.checker.check_model(mode_def)\n",
    "onnx.save(mode_def, \"./Conv.onnx\")"
   ]
  },
  {
   "cell_type": "markdown",
   "metadata": {},
   "source": [
    "通过现有框架生成onnx"
   ]
  },
  {
   "cell_type": "code",
   "execution_count": null,
   "metadata": {},
   "outputs": [],
   "source": [
    "import torch,onnx\n",
    "import sys,os\n",
    "sys.path.append(r'D:\\31890\\Desktop\\codefile\\Utils')\n",
    "from model__ import U_Net_o\n",
    "\n",
    "\n",
    "device = torch.device('cuda' if torch.cuda.is_available() else 'cpu')\n",
    "net = U_Net_o(2)\n",
    "net = net.eval().to(device)\n",
    "net.load_state_dict(torch.load(r'D:\\31890\\Desktop\\codefile\\Utils\\Packages\\onnx__\\unet.pth',map_location=device)) \n",
    "\n",
    "## 生成onnx模型\n",
    "\n",
    "x = torch.randn(1, 3, 512, 512)\n",
    "torch_out = torch.onnx.export(net,\n",
    "                            x,\n",
    "                            \"test.onnx\",\n",
    "                            input_names=['input'],\n",
    "                            output_names=['output'],\n",
    "                            opset_version=11  #算子版本\n",
    "                            )"
   ]
  },
  {
   "cell_type": "code",
   "execution_count": null,
   "metadata": {},
   "outputs": [],
   "source": [
    "import onnx\n",
    "from onnx.external_data_helper import load_external_data_for_model\n",
    "\n",
    "## 加载 onnx 模型\n",
    "onnx_model = onnx.load(r'D:\\31890\\Desktop\\codefile\\Utils\\Packages\\onnx__\\test.onnx') \n",
    "## 加载模型和外部数据\n",
    "onnx_model = onnx.load('path/to/the/model.onnx', load_external_data=False)\n",
    "load_external_data_for_model(onnx_model, 'data/directory/path/')\n",
    "# Save the ONNX model\n",
    "onnx.save(onnx_model, 'path/to/the/model.onnx')"
   ]
  },
  {
   "cell_type": "markdown",
   "metadata": {},
   "source": [
    "验证模型是否导出成功"
   ]
  },
  {
   "cell_type": "code",
   "execution_count": null,
   "metadata": {},
   "outputs": [],
   "source": [
    "import onnx\n",
    "net  = onnx.load(r\"D:\\31890\\Desktop\\codefile\\Utils\\Packages\\onnx__\\test.onnx\")\n",
    "## 验证格式是否正确\n",
    "onnx.checker.check_model(net)\n",
    "## 打印计算图\n",
    "# print(onnx.helper.printable_graph(net.graph) )"
   ]
  },
  {
   "cell_type": "markdown",
   "metadata": {},
   "source": [
    "#### onnx推理单张"
   ]
  },
  {
   "cell_type": "code",
   "execution_count": null,
   "metadata": {},
   "outputs": [],
   "source": [
    "import onnxruntime\n",
    "import numpy as np\n",
    "import torch\n",
    "import torch.nn.functional as F\n",
    "from torchvision import transforms\n",
    "from PIL import Image"
   ]
  },
  {
   "cell_type": "code",
   "execution_count": null,
   "metadata": {},
   "outputs": [],
   "source": [
    "## 加载模型\n",
    "t_session = onnxruntime.InferenceSession(r'D:\\31890\\Desktop\\codefile\\Utils\\Packages\\onnx__\\test.onnx')"
   ]
  },
  {
   "cell_type": "code",
   "execution_count": null,
   "metadata": {},
   "outputs": [],
   "source": [
    "img_path = r'D:\\31890\\Desktop\\codefile\\Utils\\Packages\\onnx__\\test.jpg'\n",
    "img_pil = Image.open(img_path)\n",
    "transform = transforms.Compose([\n",
    "    transforms.Resize(512),\n",
    "    transforms.ToTensor(),\n",
    "    transforms.Normalize(\n",
    "    mean=[0.4754358, 0.35509014, 0.282971],\n",
    "    std=[0.16318515, 0.15616792, 0.15164918])\n",
    "    ])\n",
    "input_tensor = transform(img_pil).unsqueeze(0).numpy()\n",
    "# print(input_tensor.shape)"
   ]
  },
  {
   "cell_type": "code",
   "execution_count": null,
   "metadata": {},
   "outputs": [],
   "source": [
    "# ONNX Runtime 输入\n",
    "ort_inputs = {'input': input_tensor}\n",
    "# ONNX Runtime 输出\n",
    "pred_logits = t_session.run(['output'], ort_inputs)[0]\n",
    "pred_logits = torch.tensor(pred_logits)"
   ]
  },
  {
   "cell_type": "code",
   "execution_count": null,
   "metadata": {},
   "outputs": [],
   "source": [
    "pred_logits = F.softmax(pred_logits[0],dim=0)\n",
    "pred = np.array(pred_logits.argmax(axis=0),)*255"
   ]
  },
  {
   "cell_type": "code",
   "execution_count": null,
   "metadata": {},
   "outputs": [],
   "source": [
    "pred = Image.fromarray(pred.astype(np.uint8))\n",
    "pred.save(r'D:\\31890\\Desktop\\codefile\\Utils\\Packages\\onnx__\\test2.png')"
   ]
  },
  {
   "cell_type": "code",
   "execution_count": null,
   "metadata": {},
   "outputs": [],
   "source": [
    "import matplotlib.pyplot as plt\n",
    "plt.imshow(pred,cmap='gray')     # 加载图像\n",
    "plt.axis('on')                  # 是否加载坐标轴\n",
    "plt.title('image')              # 图像标题\n",
    "plt.show()     "
   ]
  },
  {
   "cell_type": "markdown",
   "metadata": {},
   "source": [
    "#### onnx 推理大图"
   ]
  },
  {
   "cell_type": "code",
   "execution_count": 1,
   "metadata": {},
   "outputs": [],
   "source": [
    "import onnxruntime\n",
    "import numpy as np\n",
    "import torch,cv2,time,tqdm\n",
    "import torch.nn.functional as F\n",
    "from torchvision import transforms\n",
    "from PIL import Image\n",
    "Image.MAX_IMAGE_PIXELS = None"
   ]
  },
  {
   "cell_type": "code",
   "execution_count": 3,
   "metadata": {},
   "outputs": [
    {
     "name": "stderr",
     "output_type": "stream",
     "text": [
      "100%|██████████| 27/27 [17:01<00:00, 37.82s/it]\n"
     ]
    },
    {
     "name": "stdout",
     "output_type": "stream",
     "text": [
      "time cost: 1026.4172325134277 s\n"
     ]
    }
   ],
   "source": [
    "# 加载\n",
    "t_session = onnxruntime.InferenceSession(r'D:\\31890\\Desktop\\codefile\\Utils\\Packages\\onnx__\\test.onnx')\n",
    "\n",
    "# 多核加速\n",
    "# cpu_num_thread = 4\n",
    "# t_session.intra_op_num_threads = cpu_num_thread\n",
    "# t_session.execution_mode = onnxruntime.ExecutionMode.ORT_SEQUENTIAL\n",
    "\n",
    "time_start = time.time()\n",
    "img_path = r'D:\\31890\\Desktop\\codefile\\Utils\\Packages\\onnx__\\test.jpg'\n",
    "img_pil = Image.open(img_path)\n",
    "\n",
    "# 输出图像的尺寸\n",
    "pixel_shape = 512\n",
    "origin_w, origin_h = img_pil.size\n",
    "# 新的高和宽\n",
    "new_h = int((origin_h//pixel_shape+1)*pixel_shape)\n",
    "new_w = int((origin_w//pixel_shape+1)*pixel_shape)\n",
    "# 多余的尺寸\n",
    "h_padding = new_h-origin_h\n",
    "w_padding = new_w-origin_w\n",
    "\n",
    "# 创建\n",
    "img_new = Image.new('RGB',(new_w,new_h))\n",
    "img_new.paste(img_pil, (w_padding, h_padding))  ##上左田间黑边\n",
    "mask = np.zeros((new_h,new_w))\n",
    "\n",
    "transform = transforms.Compose([\n",
    "            transforms.ToTensor(),\n",
    "            transforms.Normalize(\n",
    "            mean=[0.4754358, 0.35509014, 0.282971],\n",
    "            std=[0.16318515, 0.15616792, 0.15164918])\n",
    "            ])\n",
    "\n",
    "img_new = transform(img_new).unsqueeze(0).numpy()\n",
    "\n",
    "for u in tqdm.tqdm(range(origin_h//pixel_shape)):\n",
    "    for v in range(origin_w//pixel_shape):\n",
    "        x = pixel_shape * u\n",
    "        y = pixel_shape * v\n",
    "\n",
    "        input_tensor = img_new[:,:,x : x + pixel_shape, y : y + pixel_shape]\n",
    "        # ONNX Runtime 输入\n",
    "        ort_inputs = {'input': input_tensor}\n",
    "        # ONNX Runtime 输出\n",
    "        pred_logits = t_session.run(['output'], ort_inputs)[0]\n",
    "        pred_logits = torch.tensor(pred_logits)\n",
    "        pred_logits = F.softmax(pred_logits[0],dim=0)\n",
    "        pred = np.array(pred_logits.argmax(axis=0),)*255\n",
    "        mask[x : x + pixel_shape, y : y + pixel_shape] = pred\n",
    "\n",
    "mask = Image.fromarray(mask[:origin_h,:origin_w].astype(np.uint8))\n",
    "mask.save(r'D:\\31890\\Desktop\\codefile\\Utils\\Packages\\onnx__\\test2.png')\n",
    "\n",
    "time_end = time.time()\n",
    "print(\"time cost:\", time_end-time_start , \"s\")"
   ]
  }
 ],
 "metadata": {
  "kernelspec": {
   "display_name": "demo1",
   "language": "python",
   "name": "python3"
  },
  "language_info": {
   "codemirror_mode": {
    "name": "ipython",
    "version": 3
   },
   "file_extension": ".py",
   "mimetype": "text/x-python",
   "name": "python",
   "nbconvert_exporter": "python",
   "pygments_lexer": "ipython3",
   "version": "3.11.3"
  },
  "orig_nbformat": 4
 },
 "nbformat": 4,
 "nbformat_minor": 2
}
