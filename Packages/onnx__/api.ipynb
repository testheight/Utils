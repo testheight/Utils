{
 "cells": [
  {
   "cell_type": "markdown",
   "metadata": {},
   "source": [
    "搭建onnx"
   ]
  },
  {
   "cell_type": "code",
   "execution_count": 1,
   "metadata": {},
   "outputs": [],
   "source": [
    "import onnx\n",
    "from onnx import helper\n",
    "from onnx import TensorProto\n",
    "import numpy as np\n",
    "\n",
    "### 搭建onnx模型\n",
    "weight = np.random.randn(36)\n",
    "X = helper.make_tensor_value_info('X', TensorProto.FLOAT, [1, 2, 4, 4])\n",
    "W = helper.make_tensor('W', TensorProto.FLOAT, [2, 2, 3, 3], weight)\n",
    "B = helper.make_tensor('B', TensorProto.FLOAT, [2], [1.0, 2.0])\n",
    "Y = helper.make_tensor_value_info('Y', TensorProto.FLOAT, [1, 2, 2, 2])\n",
    "node_def = helper.make_node(\n",
    "'Conv', # node name\n",
    "['X', 'W', 'B'],\n",
    "['Y'], # outputs\n",
    "# attributes\n",
    "strides=[2,2],\n",
    ")\n",
    "graph_def = helper.make_graph(\n",
    "[node_def],\n",
    "'test_conv_mode',\n",
    "[X], # graph inputs\n",
    "[Y], # graph outputs\n",
    "initializer=[W, B],\n",
    ")\n",
    "mode_def = helper.make_model(graph_def, producer_name='onnx-example')\n",
    "onnx.checker.check_model(mode_def)\n",
    "onnx.save(mode_def, \"./Conv.onnx\")"
   ]
  },
  {
   "cell_type": "markdown",
   "metadata": {},
   "source": [
    "通过框架生成onnx"
   ]
  },
  {
   "cell_type": "code",
   "execution_count": 8,
   "metadata": {},
   "outputs": [
    {
     "name": "stdout",
     "output_type": "stream",
     "text": [
      "============== Diagnostic Run torch.onnx.export version 2.0.1+cpu ==============\n",
      "verbose: False, log level: Level.ERROR\n",
      "======================= 0 NONE 0 NOTE 0 WARNING 0 ERROR ========================\n",
      "\n"
     ]
    }
   ],
   "source": [
    "import torch,onnx\n",
    "import sys,os\n",
    "sys.path.append(r'D:\\31890\\Desktop\\codefile\\Utils')\n",
    "from model__ import U_Net_o\n",
    "\n",
    "## 生成onnx模型\n",
    "net = U_Net_o(2)\n",
    "x = torch.randn(1, 3, 512, 512)\n",
    "torch_out = torch.onnx.export(net,\n",
    "                            x,\n",
    "                            \"test.onnx\",\n",
    "                            input_names=['input'],\n",
    "                            output_names=['output'],\n",
    "                            opset_version=11  #算子版本\n",
    "                            )"
   ]
  },
  {
   "cell_type": "markdown",
   "metadata": {},
   "source": [
    "验证模型是否导出成功"
   ]
  },
  {
   "cell_type": "code",
   "execution_count": 6,
   "metadata": {},
   "outputs": [
    {
     "name": "stdout",
     "output_type": "stream",
     "text": [
      "graph test_conv_mode (\n",
      "  %X[FLOAT, 1x2x4x4]\n",
      ") initializers (\n",
      "  %W[FLOAT, 2x2x3x3]\n",
      "  %B[FLOAT, 2]\n",
      ") {\n",
      "  %Y = Conv[strides = [2, 2]](%X, %W, %B)\n",
      "  return %Y\n",
      "}\n"
     ]
    }
   ],
   "source": [
    "import onnx\n",
    "net  = onnx.load(r\"D:\\31890\\Desktop\\codefile\\Utils\\Packages\\onnx__\\Conv.onnx\")\n",
    "## 验证格式是否正确\n",
    "onnx.checker.check_model(net)\n",
    "## 打印计算图\n",
    "print(onnx.helper.printable_graph(net.graph) )"
   ]
  },
  {
   "cell_type": "code",
   "execution_count": 2,
   "metadata": {},
   "outputs": [],
   "source": [
    "import onnx\n",
    "from onnx.external_data_helper import load_external_data_for_model\n",
    "\n",
    "## 加载 onnx 模型\n",
    "onnx_model = onnx.load(r'D:\\31890\\Desktop\\codefile\\Utils\\Packages\\onnx__\\test.onnx') \n",
    "## 加载模型和外部数据\n",
    "onnx_model = onnx.load('path/to/the/model.onnx', load_external_data=False)\n",
    "load_external_data_for_model(onnx_model, 'data/directory/path/')\n",
    "# Save the ONNX model\n",
    "onnx.save(onnx_model, 'path/to/the/model.onnx')"
   ]
  },
  {
   "cell_type": "code",
   "execution_count": 2,
   "metadata": {},
   "outputs": [
    {
     "name": "stdout",
     "output_type": "stream",
     "text": [
      "============== Diagnostic Run torch.onnx.export version 2.0.1+cpu ==============\n",
      "verbose: False, log level: Level.ERROR\n",
      "======================= 0 NONE 0 NOTE 0 WARNING 0 ERROR ========================\n",
      "\n"
     ]
    }
   ],
   "source": [
    "import torch\n",
    "import timm\n",
    "\n",
    "net = timm.create_model('mobilenetv2_035', pretrained=False)\n",
    "model_name = 'mobilenetv2_035.onnx'#保存ONNX的文件名字\n",
    "dummy_input = torch.randn(1, 3, 256, 256)\n",
    "torch.onnx.export(net, dummy_input, model_name, input_names=['input'], output_names=['output'])"
   ]
  },
  {
   "cell_type": "code",
   "execution_count": 4,
   "metadata": {},
   "outputs": [
    {
     "name": "stderr",
     "output_type": "stream",
     "text": [
      "C:\\Users\\31890\\AppData\\Local\\Temp\\ipykernel_14368\\2314818918.py:12: TracerWarning: Converting a tensor to a Python integer might cause the trace to be incorrect. We can't record the data flow of Python values, so this value will be treated as a constant in the future. This means that the trace might not generalize to other inputs!\n",
      "  return x.view(-1,int(x.numel()//x.size(0)))\n"
     ]
    },
    {
     "name": "stdout",
     "output_type": "stream",
     "text": [
      "============== Diagnostic Run torch.onnx.export version 2.0.1+cpu ==============\n",
      "verbose: False, log level: Level.ERROR\n",
      "======================= 0 NONE 0 NOTE 0 WARNING 0 ERROR ========================\n",
      "\n"
     ]
    }
   ],
   "source": [
    "import torch\n",
    "import torch.nn as nn\n",
    "\n",
    "class Model(nn.Module):\n",
    "    def __init__(self, *args, **kwargs) -> None:\n",
    "        super().__init__(*args, **kwargs)\n",
    "        self.conv = nn.Conv2d(1,1,3,stride=1,padding=1,bias=True)\n",
    "        self.conv.weight.data.fill_(0.3)\n",
    "        self.conv.bias.data.fill_(0.2)\n",
    "    def forward(self,x):\n",
    "        x = self.conv(x)\n",
    "        return x.view(-1,int(x.numel()//x.size(0)))\n",
    "\n",
    "model = Model().eval()\n",
    "x = torch.full((1,1,3,3),1.0)\n",
    "y = model(x)\n",
    "\n",
    "torch.onnx.export(\n",
    "    model,(x,),\"lessonl.onnx\",verbose=True\n",
    ")"
   ]
  }
 ],
 "metadata": {
  "kernelspec": {
   "display_name": "demo1",
   "language": "python",
   "name": "python3"
  },
  "language_info": {
   "codemirror_mode": {
    "name": "ipython",
    "version": 3
   },
   "file_extension": ".py",
   "mimetype": "text/x-python",
   "name": "python",
   "nbconvert_exporter": "python",
   "pygments_lexer": "ipython3",
   "version": "3.11.3"
  },
  "orig_nbformat": 4
 },
 "nbformat": 4,
 "nbformat_minor": 2
}
