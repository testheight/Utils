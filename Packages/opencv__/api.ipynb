{
 "cells": [
  {
   "cell_type": "code",
   "execution_count": 2,
   "metadata": {},
   "outputs": [
    {
     "name": "stdout",
     "output_type": "stream",
     "text": [
      "1 th video has been finished!\n",
      "2 th video has been finished!\n",
      "3 th video has been finished!\n"
     ]
    },
    {
     "name": "stdout",
     "output_type": "stream",
     "text": [
      "not res , not image\n",
      "图片提取结束\n",
      "not res , not image\n",
      "图片提取结束\n",
      "not res , not image\n",
      "图片提取结束\n"
     ]
    }
   ],
   "source": [
    "import cv2\n",
    "import os\n",
    "import threading\n",
    "\n",
    "def video_to_frames(video_path, outPutDirName):\n",
    "    times = 0\n",
    "    \n",
    "    # 提取视频的频率，每1帧提取一个\n",
    "    frame_frequency = 1\n",
    "    \n",
    "\t# 如果文件目录不存在则创建目录\n",
    "    if not os.path.exists(outPutDirName):\n",
    "        os.makedirs(outPutDirName)\n",
    "        \n",
    "    # 读取视频帧\n",
    "    camera = cv2.VideoCapture(video_path)\n",
    "    \n",
    "    while True:\n",
    "        times = times + 1\n",
    "        res, image = camera.read()\n",
    "        if not res:\n",
    "            print('not res , not image')\n",
    "            break\n",
    "        if times % frame_frequency == 0:\n",
    "            cv2.imwrite(outPutDirName + '\\\\' + str(times)+'.jpg', image)\n",
    "            \n",
    "    print('图片提取结束')\n",
    "    camera.release()\n",
    "\n",
    "\n",
    "if __name__ == \"__main__\":\n",
    "    input_dir = r'D:\\31890\\Desktop\\codefile\\Utils\\Packages\\opencv__'       # 输入的video文件夹位置\n",
    "    save_dir = r'D:\\31890\\Desktop\\codefile\\Utils\\Packages\\opencv__\\temp'         # 输出图片到当前目录video文件夹下\n",
    "    count = 0   # 视频数\n",
    "    for video_name in os.listdir(input_dir):\n",
    "        video_path = os.path.join(input_dir, video_name)\n",
    "        outPutDirName = os.path.join(save_dir, video_name[:-4])\n",
    "        threading.Thread(target=video_to_frames, args=(video_path, outPutDirName)).start()\n",
    "        count = count + 1\n",
    "        print(\"%s th video has been finished!\" % count)\n"
   ]
  }
 ],
 "metadata": {
  "kernelspec": {
   "display_name": "menv",
   "language": "python",
   "name": "python3"
  },
  "language_info": {
   "codemirror_mode": {
    "name": "ipython",
    "version": 3
   },
   "file_extension": ".py",
   "mimetype": "text/x-python",
   "name": "python",
   "nbconvert_exporter": "python",
   "pygments_lexer": "ipython3",
   "version": "3.11.3"
  },
  "orig_nbformat": 4
 },
 "nbformat": 4,
 "nbformat_minor": 2
}
