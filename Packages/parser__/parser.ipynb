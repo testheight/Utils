{
 "cells": [
  {
   "cell_type": "code",
   "execution_count": null,
   "metadata": {},
   "outputs": [],
   "source": [
    "import argparse\n",
    "\n",
    "# 实例化\n",
    "parser = argparse.ArgumentParser(description = 'test')\n",
    "\n",
    "# 使用add_argument函数添加参数 \n",
    "parser.add_argument('--input_path',default=\"input\", type=str,help ='input files')\n",
    "parser.add_argument('--output_path',default = \"output\", type=str,help='result dir.') \n",
    "            # # name or flags ：选项字符串的名字或者列表，例如 foo 或者 -f, --foo。\n",
    "            # # action： 命令行遇到参数时的动作，默认值是 store。  ====    action='store_true' -->python test.py --test_action，触发输出为 True\n",
    "            # # store_const：表示赋值为const；\n",
    "            # # append：将遇到的值存储成列表，也就是如果参数重复则会保存多个值;\n",
    "            # # append_const：将参数规范中定义的一个值保存到一个列表；\n",
    "            # # count：存储遇到的次数；此外，也可以继承 argparse.Action 自定义参数解析；\n",
    "            # # nargs :应该读取的命令行参数个数，可以是具体的数字，或者是?号，当不指定值时对于 Positional argument 使用 default—对于 Optional argument 使用 const；或者是 * 号，表示 0 或多个参数；或者是 + 号表示 1 或多个参数。\n",
    "            # # const-action 和 nargs 所需要的常量值。\n",
    "            # # default： 不指定参数时的默认值。\n",
    "            # # type： 命令行参数应该被转换成的类型。\n",
    "            # # choices：参数可允许的值的一个容器。\n",
    "            # # required：可选参数是否可以省略 (仅针对可选参数)。\n",
    "            # # help：参数的帮助信息，当指定为 argparse.SUPPRESS 时表示不显示该参数的帮助信息.\n",
    "            # # metavar：在 usage 说明中的参数名称，对于必选参数默认就是参数名称，对于可选参数默认是全大写的参数名称.\n",
    "            # # dest： 解析后的参数名称，默认情况，对于可选参数选取最长的名称，中划线转换为下划线.\n",
    "\n",
    "# 解析参数\n",
    "args = parser.parse_args()\n"
   ]
  },
  {
   "cell_type": "code",
   "execution_count": null,
   "metadata": {},
   "outputs": [],
   "source": [
    "# 使用文件作为参数\n",
    "import argparse\n",
    "parser = argparse.ArgumentParser()\n",
    "parser.add_argument('file', type=argparse.FileType('r'))    # 读取文件\n",
    "args = parser.parse_args()  # 打印文件内容\n",
    "for line in args.file:\n",
    "    print(line.strip())"
   ]
  }
 ],
 "metadata": {
  "language_info": {
   "name": "python"
  },
  "orig_nbformat": 4
 },
 "nbformat": 4,
 "nbformat_minor": 2
}
