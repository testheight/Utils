{
 "cells": [
  {
   "cell_type": "code",
   "execution_count": 1,
   "metadata": {},
   "outputs": [],
   "source": [
    "from PyQt5.Qt import *\n",
    "from PyQt5.QtWidgets import QApplication,QWidget,QLabel\n",
    "import sys  \n"
   ]
  },
  {
   "cell_type": "code",
   "execution_count": 3,
   "metadata": {},
   "outputs": [
    {
     "ename": "",
     "evalue": "",
     "output_type": "error",
     "traceback": [
      "\u001b[1;31m无法执行代码，已释放会话。请尝试重新启动内核。"
     ]
    },
    {
     "ename": "",
     "evalue": "",
     "output_type": "error",
     "traceback": [
      "\u001b[1;31m在当前单元格或上一个单元格中执行代码时 Kernel 崩溃。请查看单元格中的代码，以确定故障的可能原因。有关详细信息，请单击 <a href='https://aka.ms/vscodeJupyterKernelCrash'>此处</a>。有关更多详细信息，请查看 Jupyter <a href='command:jupyter.viewOutput'>log</a>。"
     ]
    }
   ],
   "source": [
    "import sys  # 系统内置类\n",
    "from PyQt5.Qt import *  # 主要包含了我们常用的一些类，汇总到了一块\n",
    "\n",
    "# 创建一个应用程序对象\n",
    "app = QApplication(sys.argv)\n",
    "# 创建一个空白控件(窗口)\n",
    "window = QWidget()\n",
    "\n",
    "# 设置窗口标题\n",
    "window.setWindowTitle(\"窗口\")\n",
    "# 设置窗口尺寸\n",
    "window.resize(500, 500)\n",
    "# 移动窗口位置\n",
    "window.move(200, 200)\n",
    "\n",
    "# 创建label控件\n",
    "label = QLabel(window)\n",
    "# 为控件设置文本\n",
    "label.setText(\"hello\")\n",
    "# 移动控件的位置\n",
    "label.move(160, 160)\n",
    "# 显示窗口\n",
    "window.show()\n",
    "# 进入程序的主循环，并通过exit函数确保主循环安全结束\n",
    "app.exec_()\n",
    "# sys.exit(app.exec_())"
   ]
  }
 ],
 "metadata": {
  "kernelspec": {
   "display_name": "menv",
   "language": "python",
   "name": "python3"
  },
  "language_info": {
   "codemirror_mode": {
    "name": "ipython",
    "version": 3
   },
   "file_extension": ".py",
   "mimetype": "text/x-python",
   "name": "python",
   "nbconvert_exporter": "python",
   "pygments_lexer": "ipython3",
   "version": "3.11.3"
  },
  "orig_nbformat": 4
 },
 "nbformat": 4,
 "nbformat_minor": 2
}
