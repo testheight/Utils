{
 "cells": [
  {
   "cell_type": "code",
   "execution_count": null,
   "metadata": {},
   "outputs": [],
   "source": [
    "import matplotlib.pyplot as plt\n",
    "import numpy as np\n",
    "import pandas as pd\n",
    "from sklearn.metrics import mean_squared_error #均方误差\n",
    "from sklearn.metrics import r2_score#R square\n",
    "\n",
    "\n",
    " \n",
    "df_data = pd.read_excel(r'D:\\31890\\Desktop\\codefile\\Utils\\data\\pixel_data.xlsx')\n",
    "# print(df_data)\n",
    "print(df_data.index)\n",
    "print(df_data.columns)\n",
    "\n",
    "x = df_data['day'].values\n",
    "senescence = df_data['proportion of senescence'].values\n",
    "normal = df_data['proportion of normal'].values\n",
    "senescence1 = np.polyfit(x, senescence, 3) #用3次多项式拟合，输出系数从高到0\n",
    "p1 = np.poly1d(senescence1) #使用次数合成多项式\n",
    "senescence_pre = p1(x)\n",
    "\n",
    "normal1 = np.polyfit(x, normal, 3) #用3次多项式拟合，输出系数从高到0\n",
    "p2 = np.poly1d(normal1) #使用次数合成多项式\n",
    "normal_pre = p2(x)\n",
    "\n",
    "plt.plot(x,senescence,'.')\n",
    "plt.plot(x,normal,'.')\n",
    "plt.plot(x,senescence_pre)\n",
    "plt.plot(x,normal_pre)\n",
    "plt.show()\n",
    "senescence_mse =mean_squared_error(senescence,senescence_pre)\n",
    "senescence_r2 = r2_score(senescence,senescence_pre)\n",
    "normal_mse =mean_squared_error(normal,normal_pre)\n",
    "normal_r2 = r2_score(normal,normal_pre)\n",
    "print('senescence_mse:{}'.format(senescence_mse))\n",
    "print('normal_mse:{}'.format(normal_mse))\n",
    "print('senescence_r2:{}'.format(senescence_r2))\n",
    "print('normal_r2:{}'.format(normal_r2))"
   ]
  }
 ],
 "metadata": {
  "language_info": {
   "name": "python"
  },
  "orig_nbformat": 4
 },
 "nbformat": 4,
 "nbformat_minor": 2
}
