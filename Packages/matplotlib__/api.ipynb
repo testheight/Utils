{
 "cells": [
  {
   "attachments": {},
   "cell_type": "markdown",
   "metadata": {},
   "source": [
    "##### 展示图片"
   ]
  },
  {
   "cell_type": "code",
   "execution_count": null,
   "metadata": {},
   "outputs": [],
   "source": [
    "import matplotlib.pyplot as plt\n",
    "import numpy as np\n",
    "\n",
    "img = []\n",
    "plt.figure(\"Image\")             # 设置画布\n",
    "\n",
    "plt.imshow(img,cmap='gray')     # 加载图像\n",
    "plt.axis('on')                  # 是否加载坐标轴\n",
    "plt.title('image')              # 图像标题\n",
    "plt.show()                      # 展示图像"
   ]
  },
  {
   "attachments": {},
   "cell_type": "markdown",
   "metadata": {},
   "source": [
    "##### 多幅图像\n"
   ]
  },
  {
   "cell_type": "code",
   "execution_count": null,
   "metadata": {},
   "outputs": [],
   "source": [
    "fig = plt.figure()\n",
    "ax1 = fig.add_subplot(221)\n",
    "ax2 = fig.add_subplot(222)\n",
    "ax3 = fig.add_subplot(224)\n",
    "\n",
    "fig, axes = plt.subplots(nrows=2, ncols=2)\n",
    "axes[0,0].set(title='Upper Left')\n",
    "axes[0,0].plot(x, y1)\n",
    "axes[0,1].set(title='Upper Right')\n",
    "axes[0,1].plot(x, y1)\n",
    "axes[1,0].set(title='Lower Left')\n",
    "axes[1,0].plot(x, y1)\n",
    "axes[1,1].set(title='Lower Right')\n",
    "axes[1,1].plot(x, y1)\n",
    "axes[0].imshow()\n",
    "axes[0].set_title(\"B channel\")\n",
    "\n",
    "axes[1].imshow()\n",
    "axes[1].set_title(\"G channel\")\n",
    "\n",
    "axes[2].imshow()\n",
    "axes[2].set_title(\"R channel\")"
   ]
  },
  {
   "cell_type": "code",
   "execution_count": null,
   "metadata": {},
   "outputs": [],
   "source": [
    "import matplotlib.pyplot as plt\n",
    "import numpy as np\n",
    "import pandas as pd\n",
    "from sklearn.metrics import mean_squared_error #均方误差\n",
    "from sklearn.metrics import r2_score#R square\n",
    "\n",
    "\n",
    " \n",
    "df_data = pd.read_excel(r'D:\\31890\\Desktop\\codefile\\Utils\\data\\pixel_data.xlsx')\n",
    "# print(df_data)\n",
    "print(df_data.index)\n",
    "print(df_data.columns)\n",
    "\n",
    "x = df_data['day'].values\n",
    "senescence = df_data['proportion of senescence'].values\n",
    "normal = df_data['proportion of normal'].values\n",
    "senescence1 = np.polyfit(x, senescence, 3) #用3次多项式拟合，输出系数从高到0\n",
    "p1 = np.poly1d(senescence1) #使用次数合成多项式\n",
    "senescence_pre = p1(x)\n",
    "\n",
    "normal1 = np.polyfit(x, normal, 3) #用3次多项式拟合，输出系数从高到0\n",
    "p2 = np.poly1d(normal1) #使用次数合成多项式\n",
    "normal_pre = p2(x)\n",
    "\n",
    "plt.plot(x,senescence,'.')\n",
    "plt.plot(x,normal,'.')\n",
    "plt.plot(x,senescence_pre)\n",
    "plt.plot(x,normal_pre)\n",
    "plt.show()\n",
    "senescence_mse =mean_squared_error(senescence,senescence_pre)\n",
    "senescence_r2 = r2_score(senescence,senescence_pre)\n",
    "normal_mse =mean_squared_error(normal,normal_pre)\n",
    "normal_r2 = r2_score(normal,normal_pre)\n",
    "print('senescence_mse:{}'.format(senescence_mse))\n",
    "print('normal_mse:{}'.format(normal_mse))\n",
    "print('senescence_r2:{}'.format(senescence_r2))\n",
    "print('normal_r2:{}'.format(normal_r2))"
   ]
  },
  {
   "cell_type": "code",
   "execution_count": null,
   "metadata": {},
   "outputs": [],
   "source": [
    "import matplotlib.pyplot as plt\n",
    "fig = plt.figure()\n",
    "fig = plt.figure()\n",
    "ax = fig.add_subplot(111)\n",
    "ax.set(xlim=[0.5, 4.5], ylim=[-2, 8], title='An Example Axes',\n",
    "       ylabel='Y-Axis', xlabel='X-Axis')\n",
    "plt.show()"
   ]
  }
 ],
 "metadata": {
  "kernelspec": {
   "display_name": "menv",
   "language": "python",
   "name": "python3"
  },
  "language_info": {
   "codemirror_mode": {
    "name": "ipython",
    "version": 3
   },
   "file_extension": ".py",
   "mimetype": "text/x-python",
   "name": "python",
   "nbconvert_exporter": "python",
   "pygments_lexer": "ipython3",
   "version": "3.11.3"
  },
  "orig_nbformat": 4
 },
 "nbformat": 4,
 "nbformat_minor": 2
}
