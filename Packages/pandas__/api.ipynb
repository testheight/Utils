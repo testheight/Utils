{
 "cells": [
  {
   "cell_type": "code",
   "execution_count": null,
   "metadata": {},
   "outputs": [],
   "source": [
    "import numpy as np\n",
    "import pandas as pd"
   ]
  },
  {
   "attachments": {},
   "cell_type": "markdown",
   "metadata": {},
   "source": [
    "#### Series"
   ]
  },
  {
   "attachments": {},
   "cell_type": "markdown",
   "metadata": {},
   "source": [
    "##### 创建Series对象"
   ]
  },
  {
   "cell_type": "code",
   "execution_count": null,
   "metadata": {},
   "outputs": [],
   "source": [
    "# 数组创建Series\n",
    "data = np.array(['a','b','c','d'])\n",
    "s = pd.Series(data,index=[1,2,3,4])\n",
    "\n",
    "# 字典创建数组创建Series\n",
    "data = {'a' : 0., 'b' : 1., 'c' : 2.}\n",
    "s = pd.Series(data)\n",
    "\n",
    "# 标量创建Series对象\n",
    "s = pd.Series(5, index=[0, 1, 2, 3])\n",
    "print(s)"
   ]
  },
  {
   "attachments": {},
   "cell_type": "markdown",
   "metadata": {},
   "source": [
    "##### 访问Series"
   ]
  },
  {
   "cell_type": "code",
   "execution_count": null,
   "metadata": {},
   "outputs": [],
   "source": [
    "s = pd.Series([4,2,3,4,5],index = ['a','b','c','d','e'])\n",
    " #数值\n",
    "print(s[0])\n",
    "print(s['a'])\n",
    "# 切片索引\n",
    "print(s[:3])  \n"
   ]
  },
  {
   "attachments": {},
   "cell_type": "markdown",
   "metadata": {},
   "source": [
    "##### Series常用属性"
   ]
  },
  {
   "cell_type": "code",
   "execution_count": null,
   "metadata": {},
   "outputs": [],
   "source": [
    "s = pd.Series(np.random.randn(5))\n",
    "# print(s)\n",
    "# 以列表的形式返回所有行索引标签。\n",
    "print(s.axes)\n",
    "# 返回对象的数据类型\n",
    "print(s.dtype)\n",
    "# 判断数据对象是否为空\n",
    "print (s.empty)\n",
    "# 查看序列的维数\n",
    "print (s.ndim)\n",
    "# 对象的大小(长度)\n",
    "print(s.size)\n",
    "# 返回 Series 对象中的数据\n",
    "print(s.values)\n",
    "# 查看 Series 中索引的取值范围\n",
    "print(s.index)"
   ]
  },
  {
   "attachments": {},
   "cell_type": "markdown",
   "metadata": {},
   "source": [
    "##### Series常用方法"
   ]
  },
  {
   "cell_type": "code",
   "execution_count": null,
   "metadata": {},
   "outputs": [],
   "source": [
    "s=pd.Series([1,2,5,None])\n",
    "#返回前三行数据\n",
    "print (s.head(3))\n",
    "#输出后两行数据\n",
    "print (s.tail(2))\n",
    "\n",
    "# isnull()&nonull()检测缺失值\n",
    "print(pd.isnull(s))  #是空值返回True\n",
    "print(pd.notnull(s)) #空值返回False"
   ]
  },
  {
   "attachments": {},
   "cell_type": "markdown",
   "metadata": {},
   "source": [
    "#### DataFrame"
   ]
  },
  {
   "attachments": {},
   "cell_type": "markdown",
   "metadata": {},
   "source": [
    "##### 读取文件"
   ]
  },
  {
   "cell_type": "code",
   "execution_count": null,
   "metadata": {},
   "outputs": [],
   "source": [
    "df = pd.read_excel(r'D:\\31890\\Desktop\\codefile\\Utils\\Packages\\pandas__\\data.csv',index_col=0)\n",
    "#  index_col=0 第一行作为index"
   ]
  },
  {
   "attachments": {},
   "cell_type": "markdown",
   "metadata": {},
   "source": [
    "##### 创建DataFrame"
   ]
  },
  {
   "cell_type": "code",
   "execution_count": null,
   "metadata": {},
   "outputs": [],
   "source": [
    "# 列表创建 DataFrame 对象\n",
    "data = [['Alex',10],['Bob',12],['Clarke',13]]\n",
    "df = pd.DataFrame(data,columns=['Name','Age'])\n",
    "\n",
    "# 字典嵌套列表创建1\n",
    "data = {'Name':['Tom', 'Jack', 'Steve', 'Ricky'],'Age':[28,34,29,42]}\n",
    "df = pd.DataFrame(data, index=['rank1','rank2','rank3','rank4'])\n",
    "print(df)\n",
    "# 字典嵌套列表创建2\n",
    "data = [{'a': 1, 'b': 2},{'a': 5, 'b': 10, 'c': 20}]\n",
    "df1 = pd.DataFrame(data, index=['first', 'second'], columns=['a', 'b'])\n",
    "df2 = pd.DataFrame(data, index=['first', 'second'], columns=['a', 'b1'])\n",
    "print(df1)\n",
    "print(df2)\n",
    "\n",
    "# Series创建DataFrame对象\n",
    "d = {'one' : pd.Series([1, 2, 3], index=['a', 'b', 'd']),\n",
    "   'two' : pd.Series([1, 2, 3, 4], index=['a', 'b', 'c', 'd'])}\n",
    "df = pd.DataFrame(d)\n",
    "print(df)"
   ]
  },
  {
   "attachments": {},
   "cell_type": "markdown",
   "metadata": {},
   "source": [
    "##### 修改DataFrame 列"
   ]
  },
  {
   "cell_type": "code",
   "execution_count": null,
   "metadata": {},
   "outputs": [],
   "source": [
    "d = {'one' : pd.Series([1, 2, 3], index=['a', 'b', 'c']),\n",
    "   'two' : pd.Series([1, 2, 3, 4], index=['a', 'b', 'c', 'd'])}\n",
    "df = pd.DataFrame(d)\n",
    "# 列索引选取数据列\n",
    "print(df ['one'])\n",
    "\n",
    "# 列索引添加数据列\n",
    "df['three']=pd.Series([10,20,30],index=['a','b','c'])\n",
    "print(df)\n",
    "\n",
    "#使用del删除\n",
    "del df['one']\n",
    "print(df)"
   ]
  },
  {
   "attachments": {},
   "cell_type": "markdown",
   "metadata": {},
   "source": [
    "##### 修改DataFrame 行"
   ]
  },
  {
   "cell_type": "code",
   "execution_count": null,
   "metadata": {},
   "outputs": [],
   "source": [
    "import pandas as pd\n",
    "d = {'one' : pd.Series([1, 2, 3], index=['a', 'b', 'c']),\n",
    "   'two' : pd.Series([1, 2, 3, 4], index=['a', 'b', 'c', 'd'])}\n",
    "df = pd.DataFrame(d)\n",
    "# 标签索引选取\n",
    "print(df.loc['b'])\n",
    "# 行数索引选取\n",
    "print (df.iloc[2])\n",
    "# 切片索引\n",
    "print(df[2:4])\n",
    "# 行名删除数据\n",
    "df = df.drop('a')\n",
    "print (df)\n",
    "\n",
    "# 添加数据行\n",
    "df1 = pd.DataFrame([[1, 2], [3, 4]], columns = ['a','b'])\n",
    "df2 = pd.DataFrame([[5, 6], [7, 8]], columns = ['a','b'])\n",
    "df1  = pd.concat([df1,df2])\n",
    "print(df1)"
   ]
  },
  {
   "attachments": {},
   "cell_type": "markdown",
   "metadata": {},
   "source": [
    "##### 常用属性"
   ]
  },
  {
   "cell_type": "code",
   "execution_count": null,
   "metadata": {},
   "outputs": [],
   "source": [
    "d = {'Name':pd.Series(['c语言中文网','编程帮',\"百度\",'360搜索','谷歌','微学苑','Bing搜索']),\n",
    "   'years':pd.Series([5,6,15,28,3,19,23]),\n",
    "   'Rating':pd.Series([4.23,3.24,3.98,2.56,3.20,4.6,3.8])}\n",
    "df = pd.DataFrame(d)\n",
    "\n",
    "#输出DataFrame的转置\n",
    "print(df.T)\n",
    "# 返回一个行标签、列标签组成的列表。\n",
    "print(df.axes)\n",
    "#输出行、列标签\n",
    "print(df.dtypes)\n",
    "#判断输入数据是否为空\n",
    "print(df.empty)\n",
    "#DataFrame的维度\n",
    "print(df.ndim)\n",
    "#DataFrame的形状\n",
    "print(df.shape)\n",
    "#DataFrame的中元素个数\n",
    "print(df.size)\n",
    "#DataFrame的数据\n",
    "print(df.values)\n",
    "#获取前3行数据\n",
    "print(df.head(3))\n",
    "#获取后2行数据\n",
    "print(df.tail(2))\n",
    "# 获取df信息\n",
    "print(df.info())"
   ]
  },
  {
   "attachments": {},
   "cell_type": "markdown",
   "metadata": {},
   "source": [
    "##### 数据处理"
   ]
  },
  {
   "cell_type": "code",
   "execution_count": null,
   "metadata": {},
   "outputs": [],
   "source": [
    "df = pd.DataFrame({\"id\":[1001,1002,1003,1004,1005,1006], \n",
    " \"date\":pd.date_range('20130102', periods=6),\n",
    "  \"city\":['Beijing ', 'SH', ' guangzhou ', 'Shenzhen', 'shanghai', 'BEIJING '],\n",
    " \"age\":[23,44,54,32,34,32],\n",
    " \"category\":['100-A','100-B','110-A','110-C','210-A','130-F'],\n",
    "  \"price\":[1200,np.nan,2133,5433,np.nan,4432]},\n",
    "  columns =['id','date','city','category','age','price'])\n",
    "print(df)\n",
    "# 填充0\n",
    "# df = df.fillna(0)\n",
    "# 使用列prince的均值对NA进行填充\n",
    "# df = df.fillna(df['price'].mean())\n",
    "# 删除nan值的行列\n",
    "# df = df.dropna(axis=0,how='any')\n",
    "# 删除重复行\n",
    "# df.drop_duplicates()\n",
    "# 清除city字段的字符空格\n",
    "# df['city'].map(str.strip)\n",
    "# # 大小写转换：\n",
    "df['city'] = df['city'].str.lower()\n",
    "# # 更改数据格式\n",
    "# df['price'].astype('int')\n",
    "# 更改列名称\n",
    "# df = df.rename(columns={'category': 'category-size'}) \n",
    "# 删除列内重复的值,保留最后的\n",
    "# df = df.drop_duplicates(subset=[\"city\"],keep='last')\n",
    "# 数据替换\n",
    "df = df.replace('sh', 'shanghai')    #inplace在原始df替换\n",
    "# 行排序   列索引axis=1\n",
    "df.sort_index() \n",
    "# 按数值排序\n",
    "df.sort_values()"
   ]
  },
  {
   "attachments": {},
   "cell_type": "markdown",
   "metadata": {},
   "source": [
    "##### 数据筛选"
   ]
  },
  {
   "cell_type": "code",
   "execution_count": null,
   "metadata": {},
   "outputs": [],
   "source": [
    "df = pd.read_csv(r'D:\\31890\\Desktop\\codefile\\Utils\\Packages\\pandas__\\data.csv',index_col=0)\n",
    "#  index_col=0 第一行作为index\n",
    "\n",
    "df['time'] = df['time'].astype('datetime64')\n",
    "# print(df)\n",
    "# 时间筛选\n",
    "# print(df[df['time']>'2022-09-01'])\n",
    "# 进一步筛选\n",
    "print(df[df['time']=='2022-09-01'][['instrument','ROE']])"
   ]
  }
 ],
 "metadata": {
  "kernelspec": {
   "display_name": "base",
   "language": "python",
   "name": "python3"
  },
  "language_info": {
   "codemirror_mode": {
    "name": "ipython",
    "version": 3
   },
   "file_extension": ".py",
   "mimetype": "text/x-python",
   "name": "python",
   "nbconvert_exporter": "python",
   "pygments_lexer": "ipython3",
   "version": "3.9.16"
  },
  "orig_nbformat": 4
 },
 "nbformat": 4,
 "nbformat_minor": 2
}
