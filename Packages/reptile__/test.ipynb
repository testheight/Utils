{
 "cells": [
  {
   "cell_type": "code",
   "execution_count": null,
   "metadata": {},
   "outputs": [],
   "source": [
    "import requests\n",
    "from bs4 import BeautifulSoup \n",
    "\n",
    "headers = {\"User-Agent\": \"Mozilla/5.0 (Windows NT 10.0; Win64; x64) AppleWebKit/537.36 (KHTML, like Gecko) Chrome/112.0.0.0 Safari/537.36 Edg/112.0.1722.48\"}\n",
    "url = 'http://cloud.sinoverse.cn/index_bch-list.html?k=褐斑病&ism=0'\n",
    "for page in range(0,250,25):\n",
    "    url = f'https://movie.douban.com/top250?start={page}'\n",
    "    content = requests.get(url,headers=headers).text\n",
    "    soup = BeautifulSoup(content,\"html.parser\")\n",
    "    all_title = soup.find_all(\"span\",attrs={\"class\":\"title\"})\n",
    "    for tille in all_title:\n",
    "        if \"/\" in tille.string:\n",
    "            pass\n",
    "        else:\n",
    "            print(tille.string)"
   ]
  },
  {
   "cell_type": "code",
   "execution_count": 2,
   "metadata": {},
   "outputs": [
    {
     "name": "stdout",
     "output_type": "stream",
     "text": [
      "{'list': [{'type4': '草莓', 'type3': '多年生草本类', 'type2': '果树', 'name': '草莓褐斑病', 'yname': '草莓轮纹病', 'description': '草莓褐斑病为真菌性病害，是草莓生产中常见病害，严重时可造成叶枯苗死，直接影响草莓生产。', 'id': 'd8ea5aeaa8ec4dc8b300c114933c54d2', 'type1': '病害', 'thumbs': 'desases/image/6b5475a54cae4a748de07d5eab6e9fb4.JPG,desases/image/0616eb65cc694f96bfb59742cec7110f.JPG,desases/image/06076a0bd3d444f483b0bf248b106e82.JPG,'}, {'type4': '草莓', 'type3': '多年生草本类', 'type2': '果树', 'name': '草莓V型褐斑病', 'yname': '', 'description': '草莓V型褐斑病草莓的重要病害。', 'id': 'f335a4ec0a2a42658e5bbbc898f5906d', 'type1': '病害', 'thumbs': 'desases/image/3aaf4c890a014ce38b4d3a6507cf00c0.JPG,desases/image/43995af7e7ee42e282e45f7f18e05175.JPG,desases/image/6e5cc40c17d643a39ed957171f312a04.JPG,'}, {'type4': '龙眼', 'type3': '热带及亚热带类', 'type2': '果树', 'name': '龙眼褐斑病', 'yname': '', 'description': '龙眼褐斑病属于叶斑病中的一种，在我国龙眼产区均有分布，常为害龙眼的成叶和老叶，严重时导致早期落叶，影响树势和产量。', 'id': '4fa757322139414eaa0ea5f6739b8388', 'type1': '病害', 'thumbs': 'desases/image/52079ac9cde043779c7663eae195c21a.JPG,'}, {'type4': '荔枝', 'type3': '热带及亚热带类', 'type2': '果树', 'name': '荔枝斑点病', 'yname': '荔枝叶斑病，龙眼褐斑病，龙眼叶斑病，龙眼灰斑病，龙眼叶枯病', 'description': '荔枝斑点病是荔枝、龙眼上的常见的叶部病害。', 'id': '1614b81d0f6c4250a8e99354b12f3d97', 'type1': '病害', 'thumbs': 'desases/image/4ca5634e8fe34ff08a6368faac07f884.JPG,desases/image/d75ce5dfa5c54af0934c1304fc927208.JPG,'}, {'type4': '香蕉', 'type3': '多年生草本类', 'type2': '果树', 'name': '香蕉煤纹病', 'yname': '香蕉暗褐斑病,香蕉暗斑病,香蕉小窦氏霉叶斑病', 'description': '香蕉煤纹病在华南蕉区均有分布。', 'id': 'eb3cdc0941dc472c8d9d907fbcdc8b45', 'type1': '病害', 'thumbs': 'desases/image/487acb12dc6343e88b2cf4944934efbb.JPG,'}, {'type4': '樱桃', 'type3': '核果类', 'type2': '果树', 'name': '樱桃褐斑病', 'yname': '樱桃褐斑穿孔病', 'description': '樱桃褐斑病是一种常见病害。', 'id': '127f2597d85c44f4becb3fc176431586', 'type1': '病害', 'thumbs': 'desases/image/fdcb9507f89f4c1e8373f5b0818720d4.JPG,desases/image/bbfbcb69f06a442082a01240779d248b.JPG,'}, {'type4': '猕猴桃', 'type3': '浆果类', 'type2': '果树', 'name': '猕猴桃褐斑病', 'yname': '', 'description': '猕猴桃褐斑病常引起叶缘卷曲，叶片枯萎脱落。后期病害转向枝干，造成落果及枝干枯死，严重影响猕猴桃的产量和品质。', 'id': '87dd730245834816a55c5692cef69efd', 'type1': '病害', 'thumbs': ''}, {'type4': '核桃', 'type3': '坚果类', 'type2': '果树', 'name': '核桃褐斑病', 'yname': '核桃白星病', 'description': '核桃褐斑病造成核桃早期落叶，枯梢，影响树势生长。危害发生在陕西、河北、吉林、四川、河南、山东等地。', 'id': 'a609d2bd2a4a43adaab3657667427f3d', 'type1': '病害', 'thumbs': ''}, {'type4': '枣树', 'type3': '杂果类', 'type2': '果树', 'name': '枣黑腐病', 'yname': '枣褐斑病', 'description': '枣黑腐病主要引起果实腐烂和提早脱落。在8、9月份枣果膨大发白即将着色时大量发病。年份病果率20%～30%，流行年份可达50%以上，甚至使枣果绝收。危害发生在各枣区有发生。', 'id': 'd11418130558404c8ea61565967026d0', 'type1': '病害', 'thumbs': 'desases/image/27cd7c38a1794434a715752fabccac65.JPG,desases/image/f1e16e3b9f384f0fab8450420b841cb1.JPG,'}, {'type4': '苹果', 'type3': '仁果类', 'type2': '果树', 'name': '苹果褐斑病', 'yname': '苹果绿缘褐斑病', 'description': '苹果褐斑病我国各苹果产区都有发生，引起早期落叶的主要病害。', 'id': 'd0308beff81f4133a721f2d6a89a8c2a', 'type1': '病害', 'thumbs': 'desases/image/5b6812e17baf4a43ab2090d997d149c2.JPG,desases/image/99136f110fd2444a84694555af4da7fb.JPG,desases/image/bd8a1b6fd390449bbc361c97593972da.JPG,desases/image/264549fb77ce4c61bcaed4b015a086f7.JPG,desases/image/f5d965795d194726ae517234b91a9c19.JPG,desases/image/85790641b74140ae81ada1ea2cf67469.JPG,desases/image/e35070ca418842d5905afa3cf1afcf70.JPG,'}, {'type4': '梨树', 'type3': '仁果类', 'type2': '果树', 'name': '梨褐斑病', 'yname': '梨叶斑病、梨斑枯病、梨白星病', 'description': '梨褐斑病梨区均有发生，以南方梨区发生较普遍。', 'id': '2d5f0a99bf6d4fdeab4823c2ff8c7780', 'type1': '病害', 'thumbs': 'desases/image/1b2217e3ffd94478a6c5203f6bdf8af3.JPG,desases/image/bd5b756c11dc40e48dd49f0dbe6e3a54.JPG,'}, {'type4': '蘑菇', 'type3': '食用菌', 'type2': '蔬菜', 'name': '蘑菇细菌性斑点病', 'yname': '蘑菇锈斑病、蘑菇细菌性褐斑病', 'description': '蘑菇细菌性斑点病是蘑菇的重要病害之一，发生普遍。除为害蘑菇外，还可以为害平菇。', 'id': '691fb38cd199424abf95e43c99da831c', 'type1': '病害', 'thumbs': 'desases/image/b829d7cfc4504a8c925eeb29f614f839.JPG,'}, {'type4': '扁豆', 'type3': '豆荚类', 'type2': '蔬菜', 'name': '扁豆褐斑病', 'yname': '', 'description': '扁豆褐斑病是扁豆的一种重要病害。各地均有分布，发生普遍。病株率50%～70%，严重地块达100%，明显影响扁豆产量。', 'id': '1f8e5f3d277145b0bf8845f54bed9192', 'type1': '病害', 'thumbs': 'desases/image/195dd336957941d3ac9752f3b310437a.JPG,desases/image/d7a03b51cb854270aa93ed637f862093.JPG,'}, {'type4': '扁豆', 'type3': '豆荚类', 'type2': '蔬菜', 'name': '扁豆淡褐斑病', 'yname': '', 'description': '', 'id': '193af210dcb24efaa4198f34b422af4e', 'type1': '病害', 'thumbs': 'desases/image/5b46355d5c6c4fbcb5d07654f9bfac36.JPG,desases/image/4c74c937915d420e955d3908826ffb87.JPG,'}, {'type4': '蚕豆', 'type3': '豆荚类', 'type2': '蔬菜', 'name': '蚕豆褐斑病', 'yname': '', 'description': '褐斑病是蚕豆的一种常见病害。各地均有发生。病株率20%～30%，对产量影响不大；发病严重时病株率达80%以上，植株出现大量死亡，对产量和质量为害严重。', 'id': '976573ad39984d7b8b9628bfcbb196f5', 'type1': '病害', 'thumbs': 'desases/image/0dca0ed710ea48d8927b688d872371de.JPG,desases/image/272bc035ddf041e19ec1c8987458d285.JPG,desases/image/013175e5bbeb43b480193b3361e44e8b.JPG,desases/image/1793d4cb794b4c2ea1c135f233dde876.JPG,desases/image/65511c2b8f4942da96dbc5f0585135fd.JPG,'}, {'type4': '莲藕', 'type3': '水生菜类', 'type2': '蔬菜', 'name': '莲藕尾孢褐斑病', 'yname': '莲藕斑纹病', 'description': '莲藕尾孢褐斑病是莲藕的一种主要病害。各地均有分布。发生较普遍。莲藕发病后减产30%左右，重者减产60%～80%，甚至绝收。', 'id': '4800df3f22e14880ac542dd26d4f89d9', 'type1': '病害', 'thumbs': 'desases/image/39e70516d8704834bfe5200a9cc8fabd.JPG,desases/image/805f5462ccde42288c4a505296b835a5.JPG,desases/image/1327a6360e6440f89143b10932a2383f.JPG,desases/image/0bb4cfa5f5ca41c3af7942fddca60b02.JPG,'}, {'type4': '莲藕', 'type3': '水生菜类', 'type2': '蔬菜', 'name': '莲藕棒孢褐斑病', 'yname': '', 'description': '莲藕的主要病害，发生较普遍，病株率30%～50%，轻度影响莲藕生产。严重时发病率可达80%以上，明显影响正常生产。各地均有分布。', 'id': '55c58a87a32a44abb5aa2eee0b7979a4', 'type1': '病害', 'thumbs': 'desases/image/d345b3b1569c4de3aaccccf3b367c038.JPG,desases/image/f751713e85ac4482b138df0ee63f8f6e.JPG,'}, {'type4': '莲藕', 'type3': '水生菜类', 'type2': '蔬菜', 'name': '莲藕假尾孢褐斑病', 'yname': '', 'description': '', 'id': '2fe4e3ac2366431094a90ae557311b54', 'type1': '病害', 'thumbs': 'desases/image/56d5cbb477df4e55b2ba1ce68ac944d1.JPG,desases/image/1a058dda75dc44f5bc9e9bdd1998639e.JPG,desases/image/a182e964ce0f42f7aa40573c191bb4ae.JPG,desases/image/62afc26c5ba9450c8fde20303b69a683.JPG,'}, {'type4': '慈姑', 'type3': '水生菜类', 'type2': '蔬菜', 'name': '慈姑褐斑病', 'yname': '慈姑叶斑病', 'description': '', 'id': '36833a912d0045b3a9412c1fa5f60220', 'type1': '病害', 'thumbs': ''}, {'type4': '蘑菇', 'type3': '食用菌', 'type2': '蔬菜', 'name': '蘑菇褐斑病', 'yname': '蘑菇干泡病、蘑菇干腐病、蘑菇轮枝霉病', 'description': '蘑菇褐斑病为蘑菇的主要病害，严重发生时可导致绝收。', 'id': 'ca838ba9662744f9aedad657da44468f', 'type1': '病害', 'thumbs': 'desases/image/453c7561027e4cfbafd295ac3a6fbb1b.JPG,desases/image/c5e3aa6c4709436bbaec1d1a8797f5cc.JPG,desases/image/55aa2b08b8414deeab15f8d9821b3c68.JPG,'}], 'status': 1}\n"
     ]
    }
   ],
   "source": [
    "import requests\n",
    "from bs4 import BeautifulSoup \n",
    "import requests\n",
    "\n",
    "headers = {\"User-Agent\": \"Mozilla/5.0 (Windows NT 10.0; Win64; x64) AppleWebKit/537.36 (KHTML, like Gecko) Chrome/112.0.0.0 Safari/537.36 Edg/112.0.1722.48\"\n",
    "           ,'content-type': 'application/x-www-form-urlencoded; charset=UTF-8'\n",
    "}\n",
    "post_url  = 'http://app.sinoverse.cn:9090/api/cloud.jsp?t=bch_list'\n",
    "\n",
    "\n",
    "data = {\n",
    "    't': 'bch_list',\n",
    "    'k': '褐斑病',\n",
    "}\n",
    "\n",
    "responses = requests.post(url=post_url,data=data,headers=headers)\n",
    "\n",
    "dic_obj = responses.json()\n",
    "print(dic_obj)"
   ]
  }
 ],
 "metadata": {
  "kernelspec": {
   "display_name": "base",
   "language": "python",
   "name": "python3"
  },
  "language_info": {
   "codemirror_mode": {
    "name": "ipython",
    "version": 3
   },
   "file_extension": ".py",
   "mimetype": "text/x-python",
   "name": "python",
   "nbconvert_exporter": "python",
   "pygments_lexer": "ipython3",
   "version": "3.9.16"
  },
  "orig_nbformat": 4
 },
 "nbformat": 4,
 "nbformat_minor": 2
}
