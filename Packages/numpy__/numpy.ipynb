{
 "cells": [
  {
   "cell_type": "code",
   "execution_count": 1,
   "metadata": {},
   "outputs": [],
   "source": [
    "import numpy as np"
   ]
  },
  {
   "attachments": {},
   "cell_type": "markdown",
   "metadata": {},
   "source": [
    "##### 创建数组"
   ]
  },
  {
   "cell_type": "code",
   "execution_count": 3,
   "metadata": {},
   "outputs": [
    {
     "data": {
      "text/plain": [
       "array([[7, 3, 6],\n",
       "       [7, 6, 9],\n",
       "       [2, 6, 9]])"
      ]
     },
     "execution_count": 3,
     "metadata": {},
     "output_type": "execute_result"
    }
   ],
   "source": [
    "a = np.array([1,2])\n",
    "# 未初始化的数组\n",
    "x = np.empty([3,2], dtype = int) \n",
    "\n",
    "# 全0 数组\n",
    "x = np.zeros((5,), dtype = int) \n",
    "\n",
    "# 全1 数组\n",
    "x = np.ones([2,2], dtype = int)\n",
    "\n",
    "# 创建类似矩阵全1 数组\n",
    "ones_arr = np.ones_like(x)\n",
    "\n",
    "# 区间[0,1)中生成均匀分布的随机数或随机数数组\n",
    "np.random.random((2,5))\n",
    "\n",
    "# 服从0~1均匀分布的随机样本值\n",
    "np.random.rand(10,5)\n",
    "\n",
    "# 服从均值为0，方差为1的标准正态分布\n",
    "np.random.randn(10,5)\n",
    "\n",
    "# 生成的元素值的范围为[low,high)\n",
    "np.random.randint(low=2, high=10, size=(3, 3))\n",
    "\n"
   ]
  },
  {
   "attachments": {},
   "cell_type": "markdown",
   "metadata": {},
   "source": [
    "##### 数据类型"
   ]
  },
  {
   "cell_type": "code",
   "execution_count": 3,
   "metadata": {},
   "outputs": [
    {
     "name": "stdout",
     "output_type": "stream",
     "text": [
      "int32\n",
      "float16\n",
      "int8\n",
      "<class 'numpy.ndarray'>\n"
     ]
    }
   ],
   "source": [
    "a = np.array([1,2],dtype=int)\n",
    "\n",
    "print(a.dtype)\n",
    "# 类型转换1\n",
    "a.dtype = \"float16\"\n",
    "print(a.dtype)\n",
    "# 类型转换2\n",
    "a = a.astype(np.int8)\n",
    "print(a.dtype)\n",
    "\n",
    "# 判断是否是矩阵\n",
    "if isinstance(a, np.ndarray):\n",
    "    print(a)"
   ]
  },
  {
   "attachments": {},
   "cell_type": "markdown",
   "metadata": {},
   "source": [
    "##### 数组属性"
   ]
  },
  {
   "cell_type": "code",
   "execution_count": null,
   "metadata": {},
   "outputs": [],
   "source": [
    "a = np.random.randn(10,5)\n",
    "\n",
    "# 数组的维数\n",
    "print (a.ndim)\n",
    "# 表示数组的维度\n",
    "print (a.shape)\n",
    "# 返回数组中每一个元素的字节大小\n",
    "print (a.itemsize)\n",
    "# 数组中元素类型\n",
    "print (a.dtype)\n",
    "# 数组中元素的总个数\n",
    "print (a.size)"
   ]
  },
  {
   "attachments": {},
   "cell_type": "markdown",
   "metadata": {},
   "source": [
    "##### 数组索引和切片"
   ]
  },
  {
   "cell_type": "code",
   "execution_count": null,
   "metadata": {},
   "outputs": [],
   "source": [
    "# 布尔值索引\n",
    "names = np.array(['Bob', 'Joe', 'Will', 'Bob', 'Will', 'Joe', 'Joe'])\n",
    "data = np.array([[ 0.37370083, -0.33013143, -1.92042758,  0.61234423],\n",
    "       [-1.33734942,  0.29967533,  0.24341654, -1.17391872],\n",
    "       [-2.28175004,  0.03064196, -1.17277248,  0.174594  ],\n",
    "       [-0.5281719 , -0.2502034 , -0.88710013, -1.49036329],\n",
    "       [-0.72162151,  0.48662607, -2.25498875,  0.84092399],\n",
    "       [-0.58559699, -1.82182432,  1.73469502,  0.54399163],\n",
    "       [ 0.14997894,  1.72946463,  1.47252027, -1.79768056]])\n",
    "data[names == 'Bob'] # 选的是第1行和第4行\n",
    "data[names == 'Bob', 2:] # 选的是第1行和第4行,加列"
   ]
  },
  {
   "attachments": {},
   "cell_type": "markdown",
   "metadata": {},
   "source": [
    "##### 缺失值"
   ]
  },
  {
   "cell_type": "code",
   "execution_count": null,
   "metadata": {},
   "outputs": [],
   "source": [
    "a = np.array([1,2,np.nan,4])\n",
    "# 检测缺失值\n",
    "# np.isnan(a) # array([False, False,  True, False])\n",
    "# 找到缺失值一维矩阵\n",
    "# a[np.isnan(a)] # array([nan])\n",
    "# 缺失值赋值\n",
    "a[np.isnan(a)]=0"
   ]
  },
  {
   "attachments": {},
   "cell_type": "markdown",
   "metadata": {},
   "source": [
    "##### 数组合并,拼接"
   ]
  },
  {
   "cell_type": "code",
   "execution_count": null,
   "metadata": {},
   "outputs": [],
   "source": [
    "ar1 = np.array([[1,2,3], [4,5,6]])\n",
    "ar2 = np.array([[7,8,9], [11,12,13]])\n",
    "\n",
    "np.concatenate((ar1, ar2))  # 这里的第一轴(axis 0)是行方向\n",
    "np.concatenate((ar1, ar2),axis=1)  # 这里沿第二个轴，即列方向进行拼接\n",
    " "
   ]
  }
 ],
 "metadata": {
  "kernelspec": {
   "display_name": "demo1",
   "language": "python",
   "name": "python3"
  },
  "language_info": {
   "codemirror_mode": {
    "name": "ipython",
    "version": 3
   },
   "file_extension": ".py",
   "mimetype": "text/x-python",
   "name": "python",
   "nbconvert_exporter": "python",
   "pygments_lexer": "ipython3",
   "version": "3.11.3"
  },
  "orig_nbformat": 4
 },
 "nbformat": 4,
 "nbformat_minor": 2
}
