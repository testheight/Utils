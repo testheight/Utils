{
 "cells": [
  {
   "cell_type": "code",
   "execution_count": 2,
   "metadata": {},
   "outputs": [],
   "source": [
    "import os\n",
    "import tqdm\n",
    "import numpy as np\n",
    "from PIL import Image\n",
    "import cv2\n",
    "import random\n",
    "Image.MAX_IMAGE_PIXELS = None"
   ]
  },
  {
   "attachments": {},
   "cell_type": "markdown",
   "metadata": {},
   "source": [
    "### 文件操作"
   ]
  },
  {
   "attachments": {},
   "cell_type": "markdown",
   "metadata": {},
   "source": [
    "#### 重命名"
   ]
  },
  {
   "cell_type": "code",
   "execution_count": null,
   "metadata": {},
   "outputs": [],
   "source": [
    "def rename(list_path):\n",
    "    '''  list_path:重命名文件夹  '''\n",
    "    for name in os.listdir(list_path):\n",
    "        list_name_path = os.path.join(list_path,name)\n",
    "        # new_name = os.path.join(list_path,name.split('.')[0]+'.jpg')\n",
    "        new_name = get_new_name(name)\n",
    "        os.rename(list_name_path,os.path.join(list_path,new_name))\n",
    "\n",
    "def get_new_name(name):\n",
    "    if len(name.split('-')[1]) != 4:\n",
    "        new_name = name.split('.')[0] + \"edge\"+\".png\" \n",
    "    else:\n",
    "        new_name =name\n",
    "    return new_name\n",
    "\n",
    "def rename2(list_path):\n",
    "    '''  list_path:重命名文件夹  '''\n",
    "    for name in os.listdir(list_path):\n",
    "        list_name_path = os.path.join(list_path,name)\n",
    "        # new_name = os.path.join(list_path,name.split('.')[0]+'.jpg')\n",
    "        new_name = get_new_name2(name)\n",
    "        os.rename(list_name_path,os.path.join(list_path,new_name))\n",
    "\n",
    "def get_new_name2(name):\n",
    "    if len(name.split('-')[1]) == 8:# \n",
    "        new_name = name.split('-')[0]+'-'+ name.split('-')[1][0:4] +'-'+ name.split('-')[1][5] +'-'+ name.split('-')[1][6:8] +'-'+'1200.jpg'\n",
    "    else:\n",
    "        new_name =name\n",
    "    return new_name\n",
    "\n",
    "list_path = r'D:\\software\\code\\code-file\\T\\image\\Root_senescence\\0_In_situ\\original\\12'\n",
    "rename2(list_path)"
   ]
  },
  {
   "attachments": {},
   "cell_type": "markdown",
   "metadata": {},
   "source": [
    "#### 随机提取文件夹内文件"
   ]
  },
  {
   "cell_type": "code",
   "execution_count": 2,
   "metadata": {},
   "outputs": [],
   "source": [
    "in_file = r\"D:\\software\\Code\\codefile\\mmsegmentation\\data\\test_data\\JPEGImages\"\n",
    "lst_save_path = r\"D:\\software\\Code\\codefile\\mmsegmentation\\data\\test_data\\ImageSets\\Segmentation\"\n",
    "train_path = os.path.join(lst_save_path + \"\\\\\" + \"trainval\" + '.txt')\n",
    "val_path = os.path.join(lst_save_path + \"\\\\\" + \"val\" + '.txt')\n",
    "\n",
    "train_List = os.listdir(in_file)\n",
    "val_List = selected_imgs=random.sample(train_List,k = int(len(train_List)*0.9))\n",
    "for i in val_List:\n",
    "    train_List.remove(i)    \n",
    "\n",
    "with open(train_path, 'w') as f:\n",
    "    for name in train_List:\n",
    "        f.writelines(name.split('.')[0] + '\\n')\n",
    "with open(val_path, 'w') as f:\n",
    "    for name in val_List:\n",
    "        f.writelines(name.split('.')[0] + '\\n')\n",
    "\n",
    "# print(train_List)\n",
    "# print(val_List)"
   ]
  },
  {
   "attachments": {},
   "cell_type": "markdown",
   "metadata": {},
   "source": [
    "#### 复制操作\n"
   ]
  },
  {
   "cell_type": "code",
   "execution_count": 3,
   "metadata": {},
   "outputs": [],
   "source": [
    "import shutil,os\n",
    "\n",
    "i = r\"D:\\31890\\Desktop\\tranformer\\senescence\\tupian\"\n",
    "t = r'D:\\31890\\Desktop\\tranformer\\senescence\\shuailao_xiao'\n",
    "s = r\"D:\\31890\\Desktop\\tranformer\\senescence\\tupian2\"\n",
    "if not os.path.exists(s):\n",
    "    os.makedirs(s)\n",
    "for name in os.listdir(i):\n",
    "    name  = name.split('.')[0]\n",
    "    p = os.path.join(t,name+'.png')\n",
    "    p2 = os.path.join(s,name+'.png')\n",
    "    shutil.copy(p,p2)"
   ]
  },
  {
   "attachments": {},
   "cell_type": "markdown",
   "metadata": {},
   "source": [
    "#### 文件移动"
   ]
  },
  {
   "cell_type": "code",
   "execution_count": null,
   "metadata": {},
   "outputs": [],
   "source": [
    "import shutil\n",
    "import os,tqdm\n",
    " \n",
    "def remove_file(i_file, save_file):\n",
    "    filelist = os.listdir(i_file) #列出该目录下的所有文件,listdir返回的文件列表是不包含路径的。\n",
    "    file_2 = os.path.join(save_file,\"2\")\n",
    "    file_4 = os.path.join(save_file,\"4\")\n",
    "    file_10 = os.path.join(save_file,\"10\")\n",
    "    file_11 = os.path.join(save_file,\"11\")\n",
    "    file_12 = os.path.join(save_file,\"12\")\n",
    "    if not os.path.exists(file_2):\n",
    "        os.makedirs(file_2)\n",
    "    if not os.path.exists(file_4):\n",
    "        os.makedirs(file_4)\n",
    "    if not os.path.exists(file_10):\n",
    "        os.makedirs(file_10)\n",
    "    if not os.path.exists(file_11):\n",
    "        os.makedirs(file_11)\n",
    "    if not os.path.exists(file_12):\n",
    "        os.makedirs(file_12)\n",
    "    for name in tqdm.tqdm(filelist):\n",
    "        if name.split('-')[0]=='2':\n",
    "            old_path = os.path.join(i_file,name)\n",
    "            new_path = os.path.join(file_2,name)\n",
    "            shutil.move(old_path, new_path)\n",
    "        elif name.split('-')[0]=='4':\n",
    "            old_path = os.path.join(i_file,name)\n",
    "            new_path = os.path.join(file_4,name)\n",
    "            shutil.move(old_path, new_path)\n",
    "        elif name.split('-')[0]=='10':\n",
    "            old_path = os.path.join(i_file,name)\n",
    "            new_path = os.path.join(file_10,name)\n",
    "            shutil.move(old_path, new_path)\n",
    "        elif name.split('-')[0]=='11':\n",
    "            old_path = os.path.join(i_file,name)\n",
    "            new_path = os.path.join(file_11,name)\n",
    "            shutil.move(old_path, new_path)\n",
    "        elif name.split('-')[0]=='12':\n",
    "            old_path = os.path.join(i_file,name)\n",
    "            new_path = os.path.join(file_12,name)\n",
    "            shutil.move(old_path, new_path)\n",
    "\n",
    "i_file    = r'D:\\software\\code\\codefile\\T\\image\\Root_senescence\\1_egnet_result\\split\\cmask_no_tap\\all'\n",
    "save_file = r'D:\\software\\code\\codefile\\T\\image\\Root_senescence\\1_egnet_result\\split\\cmask_no_tap'\n",
    "\n",
    "remove_file(i_file,save_file )"
   ]
  },
  {
   "attachments": {},
   "cell_type": "markdown",
   "metadata": {},
   "source": [
    "#### lst文件生成"
   ]
  },
  {
   "cell_type": "code",
   "execution_count": 2,
   "metadata": {},
   "outputs": [],
   "source": [
    "#voc格式\n",
    "def voc_list_create(input_file,lst_save_path):\n",
    "    '''     input_file:重命名文件夹\n",
    "            lst_save_path:保存的路径    '''\n",
    "    name = input_file.split('\\\\')[-1]\n",
    "    test_lst = os.path.join(lst_save_path + \"\\\\\" + \"val\" + '.txt')\n",
    "    if not os.path.exists(test_lst):\n",
    "        os.system(r\"touch {}\".format(test_lst))\n",
    "    with open(test_lst, 'w') as f:\n",
    "        \n",
    "        for name in os.listdir(input_file):\n",
    "            f.writelines(name.split('.')[0] + '\\n')\n",
    "\n",
    "#egnet格式train\n",
    "def egnet_train_list_create(input_file,lst_save_path):\n",
    "    '''     input_file:重命名文件夹\n",
    "            lst_save_path:保存的路径    '''\n",
    "    name = input_file.split('\\\\')[-1]\n",
    "    test_lst = os.path.join(lst_save_path + \"\\\\\" + \"train\" + '.lst')\n",
    "\n",
    "    with open(test_lst, 'w') as f:\n",
    "        \n",
    "        for name in os.listdir(input_file):\n",
    "            f.writelines(\"root-imgs/\"+name +\" \" +\"root-mask/\"+name.split('.')[0]+'.png'+\" \"+\"root-mask/\"+name.split('.')[0]+'edge.png' +'\\n')\n",
    "\n",
    "#egnet格式test\n",
    "def egnet_test_list_create(input_file,lst_save_path):\n",
    "    '''     input_file:重命名文件夹\n",
    "            lst_save_path:保存的路径    '''\n",
    "    name = input_file.split('\\\\')[-1]\n",
    "    test_lst = os.path.join(lst_save_path + \"\\\\\" + \"2\" + '.lst')\n",
    "\n",
    "    with open(test_lst, 'w') as f:\n",
    "        for name in os.listdir(input_file):\n",
    "            f.writelines(name +'\\n')\n",
    "\n",
    "i_f= r\"E:\\数据集及软件\\数据集\\T_Train_dataset\\mmsegmentation_test_voc\\JPEGImages\"\n",
    "s_f = r\"E:\\数据集及软件\\数据集\\T_Train_dataset\\mmsegmentation_test_voc\\ImageSets\\Segmentation\"\n",
    "voc_list_create(i_f,s_f)"
   ]
  },
  {
   "attachments": {},
   "cell_type": "markdown",
   "metadata": {},
   "source": [
    "### 其他\n"
   ]
  }
 ],
 "metadata": {
  "kernelspec": {
   "display_name": "Python 3.9.7 ('base')",
   "language": "python",
   "name": "python3"
  },
  "language_info": {
   "codemirror_mode": {
    "name": "ipython",
    "version": 3
   },
   "file_extension": ".py",
   "mimetype": "text/x-python",
   "name": "python",
   "nbconvert_exporter": "python",
   "pygments_lexer": "ipython3",
   "version": "3.11.3"
  },
  "orig_nbformat": 4,
  "vscode": {
   "interpreter": {
    "hash": "b72bce0f774da0affb1409740e09e5f72c8a559958be0d948f9a4e26f76c5539"
   }
  }
 },
 "nbformat": 4,
 "nbformat_minor": 2
}
