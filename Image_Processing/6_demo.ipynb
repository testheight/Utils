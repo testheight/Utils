{
 "cells": [
  {
   "attachments": {},
   "cell_type": "markdown",
   "metadata": {},
   "source": [
    "##### demo1 像素值替换重新上色"
   ]
  },
  {
   "cell_type": "code",
   "execution_count": 4,
   "metadata": {},
   "outputs": [
    {
     "name": "stderr",
     "output_type": "stream",
     "text": [
      "100%|██████████| 12/12 [00:48<00:00,  4.00s/it]\n"
     ]
    }
   ],
   "source": [
    "import os\n",
    "import tqdm\n",
    "import numpy as np\n",
    "from PIL import Image\n",
    "import cv2\n",
    "Image.MAX_IMAGE_PIXELS = None\n",
    "\n",
    "def pixel_grayscale(image_file,save_file1,save_file2):\n",
    "    if not os.path.exists(save_file1):\n",
    "        os.makedirs(save_file1)\n",
    "    if not os.path.exists(save_file2):\n",
    "        os.makedirs(save_file2)\n",
    "    for name in tqdm.tqdm(os.listdir(image_file)):\n",
    "        save_voc = os.path.join(save_file1,name)\n",
    "        save_path = os.path.join(save_file2,name.split('.')[0]+'.jpg')\n",
    "        img = cv2.imread(os.path.join(image_file,name))\n",
    "        img = cv2.cvtColor(img,cv2.COLOR_BGR2GRAY)\n",
    "        h,w, = img.shape\n",
    "        b = np.empty([h,w])\n",
    "        b[np.where(img>249)]=1\n",
    "        b[np.where((90>img)&(img>70))] =2\n",
    "        b[img==150] =3\n",
    "        cv2.imwrite(save_voc,b)\n",
    "        b = Image.fromarray(b)\n",
    "        b = b.convert('L')\n",
    "        #调色板\n",
    "        palette = [0, 0, 0,0, 255, 0, 255, 0, 0,255,255,255]\n",
    "        #着色\n",
    "        b.putpalette(palette)\n",
    "        b.save(save_path)\n",
    "image_file  = r\"D:\\31890\\Desktop\\biaozhuchuli\"\n",
    "save_file1  = r\"D:\\31890\\Desktop\\2\"\n",
    "save_file2  = r\"D:\\31890\\Desktop\\3\"\n",
    "pixel_grayscale(image_file,save_file1,save_file2)"
   ]
  },
  {
   "attachments": {},
   "cell_type": "markdown",
   "metadata": {},
   "source": [
    "##### demo2 聚类 "
   ]
  },
  {
   "cell_type": "code",
   "execution_count": null,
   "metadata": {},
   "outputs": [],
   "source": [
    "import os\n",
    "import tqdm\n",
    "import numpy as np\n",
    "from PIL import Image\n",
    "import cv2\n",
    "Image.MAX_IMAGE_PIXELS = None\n",
    "img = cv2.imread(r\"D:\\software\\Code\\codefile\\m_CV2\\image\\102_cmask_sen.jpg\")\n",
    "#展平\n",
    "image_flat = img.reshape(-1,3)\n",
    "image_flat = np.float32(image_flat)\n",
    "    #终止条件\n",
    "criteria = (cv2.TERM_CRITERIA_EPS + cv2.TermCriteria_MAX_ITER, 20, 0.5)\n",
    "    #flags\n",
    "flags = cv2.KMEANS_RANDOM_CENTERS\n",
    "    #flags = cv2.KMEANS_PP_CENTERS\n",
    "    #K-Means聚类 聚集成4类\n",
    "compactness, labels, centers = cv2.kmeans(image_flat, 5, None, criteria, 10, flags)\n",
    "    #labels.shape=((3408500, 1))      centers.shape = ((4, 3))\n",
    "centers = np.uint8(centers)\n",
    "res = centers[labels.flatten()]\n",
    "save = res.reshape((img.shape))\n",
    "cv2.imwrite(r'D:\\software\\Code\\codefile\\m_CV2\\image\\102_cmask_sen_k.png', save)"
   ]
  },
  {
   "attachments": {},
   "cell_type": "markdown",
   "metadata": {},
   "source": [
    "##### demo3 超像素"
   ]
  },
  {
   "cell_type": "code",
   "execution_count": null,
   "metadata": {},
   "outputs": [],
   "source": [
    "import os\n",
    "import tqdm\n",
    "import numpy as np\n",
    "from PIL import Image\n",
    "import cv2\n",
    "Image.MAX_IMAGE_PIXELS = None\n",
    "image_array = cv2.imread(r'D:\\software\\Code\\codefile\\m_CV2\\image\\102_cmask_sen.jpg')\n",
    "slic = cv2.ximgproc.createSuperpixelSLIC(image_array,region_size=18,ruler = 40.0)\n",
    "slic.iterate(10)                                    #迭代次数，越大效果越好\n",
    "label_slic = slic.getLabels()                       #获取超像素标签\n",
    "number_slic = slic.getNumberOfSuperpixels()         #获取超像素数目\n",
    "color_array = np.zeros((number_slic,3))\n",
    "for i in range(number_slic):\n",
    "    temp_array = image_array[label_slic==(i)]\n",
    "    temp_array_mean = np.mean(temp_array,axis=0)\n",
    "    color_array[i]=temp_array_mean\n",
    "color_array = color_array.astype(np.int32)\n",
    "result = color_array[(label_slic).flatten()]\n",
    "result = result.reshape(image_array.shape)\n",
    "cv2.imwrite(r'D:\\software\\Code\\codefile\\m_CV2\\image\\102_cmask_sen_SLIC.png')"
   ]
  },
  {
   "attachments": {},
   "cell_type": "markdown",
   "metadata": {},
   "source": [
    "##### demo4 分割结果间对比，类qs"
   ]
  },
  {
   "cell_type": "code",
   "execution_count": null,
   "metadata": {},
   "outputs": [],
   "source": [
    "import cv2,glob,os,tqdm\n",
    "import numpy as np\n",
    "from PIL import Image\n",
    "\n",
    "def fun(ground_true,file_list,o):\n",
    "    if not os.path.exists(o):\n",
    "        os.makedirs(o)\n",
    "    for p in tqdm.tqdm(file_list):\n",
    "        for name in tqdm.tqdm(os.listdir(ground_true)):\n",
    "            img1_p = os.path.join(ground_true,name)\n",
    "            img2_P = os.path.join(p,name)\n",
    "            img1 = cv2.imread(img1_p,cv2.IMREAD_GRAYSCALE)\n",
    "            img2 = cv2.imread(img2_P,cv2.IMREAD_GRAYSCALE)\n",
    "\n",
    "            # cv2.imwrite(os.path.join(o,name.split('.')[0]+p.split('\\\\')[-1]+'.png'),img2)\n",
    "\n",
    "            img1 = np.where(img1!=0,1,0)\n",
    "            img2 = np.where(img2!=0,2,0)\n",
    "\n",
    "            imgs_union = img1+img2\n",
    "\n",
    "            imgs_union = Image.fromarray(imgs_union)\n",
    "\n",
    "            imgs_union = imgs_union.convert('L')\n",
    "                    #调色板\n",
    "            palette = [0, 0, 0,50, 205, 50, 175, 34, 34,255,255,255]  #\n",
    "                    # [0, 0, 0, 0, 0, 128, 255, 165, 0,255,255,255] \n",
    "                    #0 背景 1 标注有，预测没有 2标注没有，预测有 3 两者交集\n",
    "                    #着色\n",
    "            imgs_union.putpalette(palette)\n",
    "            save_path = os.path.join(o,name.split('.')[0]+p.split('\\\\')[-1]+'_duibi'+'.png')\n",
    "            imgs_union.save(save_path)\n",
    "\n",
    "file_list  =glob.glob(r\"D:\\31890\\Desktop\\tranformer\\model_compare\\pred\\*\")\n",
    "ground_true = r\"D:\\31890\\Desktop\\tranformer\\model_compare\\segformb5\"\n",
    "o = r\"D:\\31890\\Desktop\\tranformer\\model_compare\\segduibi\"\n",
    "fun(ground_true,file_list,o)"
   ]
  },
  {
   "attachments": {},
   "cell_type": "markdown",
   "metadata": {},
   "source": [
    "##### demo5 分割可视化"
   ]
  },
  {
   "cell_type": "code",
   "execution_count": null,
   "metadata": {},
   "outputs": [],
   "source": [
    "# \n",
    "from PIL import Image\n",
    "Image.MAX_IMAGE_PIXELS = None\n",
    "def fuse(img_p1,img_p2,save_p):\n",
    "    image1 = Image.open(img_p1)#image1 原图 \n",
    "    image2 = Image.open(img_p2)#image2 分割图\n",
    "\n",
    "    image2.convert('L')\n",
    "    palette = [0, 0, 0,50, 205, 50, 175, 34, 34,255,255,255]\n",
    "    # [0, 0, 0,50, 205, 50, 175, 34, 34,255,255,255]衰老标注\n",
    "    #\n",
    "    image2.putpalette(palette)\n",
    "    \n",
    "    image1 = image1.convert('RGBA')\n",
    "    image2 = image2.convert('RGBA')\n",
    "    \n",
    "    #两幅图像进行合并时，按公式：blended_img = img1 * (1 – alpha) + img2* alpha 进行\n",
    "    image = Image.blend(image1,image2,0.3)\n",
    "\n",
    "    image.save(save_p)\n",
    "    # image.show()\n",
    "img_p1 = r'D:\\31890\\Desktop\\codefile\\Utils\\Image\\yuantu.jpg'\n",
    "img_p2 = r'D:\\31890\\Desktop\\codefile\\Utils\\Image\\101.png'\n",
    "save_p = r'D:\\31890\\Desktop\\codefile\\Utils\\Image\\shuailao.png'\n",
    "fuse(img_p1,img_p2,save_p)"
   ]
  },
  {
   "cell_type": "code",
   "execution_count": null,
   "metadata": {},
   "outputs": [],
   "source": [
    "import os,cv2,tqdm\n",
    "import numpy as np\n",
    "def fun(i,o):\n",
    "    if not os.path.exists(o):\n",
    "        os.makedirs(o)\n",
    "    for name in tqdm.tqdm(os.listdir(i)):\n",
    "        img_ph = os.path.join(i,name)\n",
    "        img = cv2.imread(img_ph,cv2.IMREAD_GRAYSCALE)\n",
    "        img = np.where(img!=0,255,0)\n",
    "        cv2.imwrite(os.path.join(o,name),img)\n",
    "\n",
    "i = r'D:\\31890\\Desktop\\codefile\\result\\Train_data\\sen_data\\anno\\train'\n",
    "o = r'D:\\31890\\Desktop\\codefile\\result\\Train_data\\sen_data\\anno\\train2'\n",
    "fun(i,o)"
   ]
  },
  {
   "cell_type": "code",
   "execution_count": null,
   "metadata": {},
   "outputs": [],
   "source": [
    "import os,tqdm,cv2\n",
    "import numpy as np\n",
    "import matplotlib.pyplot as plt\n",
    "\n",
    "from skimage.segmentation import find_boundaries\n",
    "\n",
    "\n",
    "def Superpixel_segmentation(image_array,mask_array):\n",
    "    #初始化slic项，超像素平均尺寸20（默认为10），平滑因子20\n",
    "    slic = cv2.ximgproc.createSuperpixelSLIC(image_array,region_size=120,ruler = 20)\n",
    "    slic.iterate(50)                                    #迭代次数，越大效果越好\n",
    "    mask_slic = slic.getLabelContourMask()              #获取Mask，超像素边缘Mask==1\n",
    "    label_slic = slic.getLabels()                       #获取超像素标签矩阵\n",
    "    label_slic = cv2.bitwise_and(label_slic, label_slic, mask=mask_array).astype(np.uint8)\n",
    "\n",
    "    class_num = np.unique(label_slic,return_index=False,return_inverse=False)\n",
    "    for i in range(len(class_num)):\n",
    "        label_slic[np.where(label_slic==class_num[i])] = i\n",
    "\n",
    "    mask_slic = find_boundaries(label_slic,mode='inner').astype(np.uint8)\n",
    "    mask_inv_slic = cv2.bitwise_not((mask_slic*255).astype(np.uint8))          #获取分类边界\n",
    "\n",
    "    img_slic = cv2.bitwise_and(image_array,image_array,mask =  mask_inv_slic)  #在原图上绘制超像素边界\n",
    "    # cv2.imshow(\"img_slic\",img_slic)\n",
    "    # cv2.waitKey(0)\n",
    "    # cv2.destroyAllWindows()\n",
    "    return img_slic\n",
    "\n",
    "def Superpixel_averaging(image_array):\n",
    "    #初始化slic项，超像素平均尺寸20（默认为10），平滑因子20\n",
    "    slic = cv2.ximgproc.createSuperpixelSLIC(image_array,region_size=120,ruler = 40.0)\n",
    "    slic.iterate(10)                                    #迭代次数，越大效果越好\n",
    "    label_slic = slic.getLabels()                       #获取超像素标签\n",
    "    number_slic = slic.getNumberOfSuperpixels()         #获取超像素数目\n",
    "    color_array = np.zeros((number_slic,3))\n",
    "    for i in range(number_slic):\n",
    "        temp_array = image_array[label_slic==(i)]\n",
    "        temp_array_mean = np.mean(temp_array,axis=0)\n",
    "        color_array[i]=temp_array_mean\n",
    "    color_array = color_array.astype(np.int32)\n",
    "    result = color_array[(label_slic).flatten()]\n",
    "    result = result.reshape(image_array.shape)\n",
    "    return result\n",
    "\n",
    "image_array = cv2.imread(r\"D:\\31890\\Desktop\\codefile\\Utils\\Image\\2-2019-7-07-1200_8_13_.png\")\n",
    "mask_array = cv2.imread(r'D:\\31890\\Desktop\\codefile\\Utils\\Image\\2-2019-7-07-1200_8_13.png',cv2.IMREAD_GRAYSCALE)\n",
    "result = Superpixel_segmentation(image_array,mask_array)\n",
    "cv2.imwrite(r\"D:\\31890\\Desktop\\codefile\\Utils\\Image\\2.png\",result)"
   ]
  },
  {
   "attachments": {},
   "cell_type": "markdown",
   "metadata": {},
   "source": [
    "##### demo6 根系的主成分分析加聚类结果"
   ]
  },
  {
   "cell_type": "code",
   "execution_count": null,
   "metadata": {},
   "outputs": [],
   "source": [
    "import numpy as np\n",
    "import matplotlib.pyplot as plt\n",
    "import sklearn.cluster \n",
    "import pandas as pd\n",
    "from time import time # 用于计算运行时间\n",
    "import numpy as np\n",
    "from matplotlib.pyplot import MultipleLocator\n",
    "from sklearn import decomposition\n",
    "\n",
    "def plot_embedding(X, img_class,title=None):              ####—————— 首先定义函数画出二维空间中的样本点，输入参数：1.降维后的数据；2.图片标题\n",
    "    x_min, x_max = np.min(X, 0), np.max(X, 0)\n",
    "    X = (X - x_min) / (x_max - x_min)           ####—————— 对每一个维度进行0-1归一化，注意此时X只有两个维度\n",
    "    \n",
    "    plt.figure(figsize= (18,18))                ####—————— 设置整个图形大小\n",
    "    ax = plt.subplot(111)\n",
    "    \n",
    "    img_class_lits=[]\n",
    "    for i in img_class:\n",
    "        if i not in img_class_lits:\n",
    "            img_class_lits.append(i)\n",
    "    for i,j in enumerate(img_class_lits):\n",
    "        img_class[img_class==j] =i+10\n",
    "    img_class = img_class-10\n",
    "    colors = [  '#FF0000','#FF8C00','#FFE4B5','#9ACD32','#00FF00',      ####—————— 设置颜色矩阵\n",
    "                '#00FFFF','#4169E1','#9400D3','#FF00FF','#708090']\n",
    "    legend_list=[]\n",
    "    # a,b, c= np.unique(img_class,return_index=True,return_counts=True)\n",
    "    # for i in range(len(a)):\n",
    "        \n",
    "    for i in range(10):\n",
    "        postion = np.where(img_class == i)[0]\n",
    "        plt.scatter(X[postion[0]:postion[-1]+1, 0], X[postion[0]:postion[-1]+1, 1],c=colors[i])\n",
    "        legend_list.append('day{}--day{}'.format(postion[0]+1,postion[-1]+1))\n",
    "\n",
    "    for i in range(X.shape[0]):                                         ####—————— 每一行代表一个样本\n",
    "        plt.text(X[i, 0]+0.01, X[i, 1], str(i+1),\n",
    "                 color='#A68064',\n",
    "                 fontdict={'weight': 'bold', 'size': 12})               ####—————— 在样本点所在位置画出样本点的数字标签\n",
    "    \n",
    "    plt.xlim(-0.1,1.1)                              ####—————— 设置x轴的刻度限制\n",
    "    plt.ylim(-0.1,1.1)                              ####—————— 设置y轴的刻度限制\n",
    "\n",
    "    y_major_locator=MultipleLocator(0.1)            ####—————— 把y轴的刻度间隔设置为10，并存在变量里\n",
    "\n",
    "    ax=plt.gca()                                    ####——————  ax为两条坐标轴的实例\n",
    "    ax.yaxis.set_major_locator(y_major_locator)\n",
    "\n",
    "    plt.legend(legend_list, loc='upper right',prop = {'size':16\n",
    "    })\n",
    "    \n",
    "    if title is not None: \n",
    "        plt.title(title)                            ####—————— 设置图标的标题\n",
    "    plt.savefig(r\"D:\\31890\\Desktop\\codefile\\Utils\\result\\shuailao_cluster.svg\",dpi=200, bbox_inches='tight')\n",
    "    plt.show()\n",
    "\n",
    "path = r'D:\\31890\\Desktop\\codefile\\Utils\\result\\shuailao pixel statistics.xlsx'\n",
    "data_X = pd.read_excel(path)                ####—————— 读取excel\n",
    "data_X_value = data_X.values                ####—————— 转为矩阵\n",
    "img_flatten_group = data_X_value[:,2:]      \n",
    "img_name_list = data_X_value[:,0].flatten().tolist()\n",
    "\n",
    "t0 = time()                                 ####—————— 计时\n",
    "pca = decomposition.PCA(n_components=2)     ####—————— 降维分析(PCA,NMF,ICA)\n",
    "X_pca = pca.fit_transform(img_flatten_group.astype(np.float32))\n",
    "cluster_result = sklearn.cluster.AgglomerativeClustering(n_clusters=10).fit(X_pca)      ####—————— 聚类 (PCA,NMF,ICA)\n",
    "img_class = cluster_result.labels_          ####—————— 获取聚类类别\n",
    "\n",
    "df2 = pd.DataFrame(X_pca,columns=['x','y'])\n",
    "df2['class']=img_class\n",
    "df2.to_csv(r'D:\\31890\\Desktop\\codefile\\Utils\\result\\pca_r.csv')       ####—————— 保存类别\n",
    "\n",
    "plot_embedding(X_pca, img_class,title=None)\n"
   ]
  },
  {
   "attachments": {},
   "cell_type": "markdown",
   "metadata": {},
   "source": [
    "##### demo7 黑白反转"
   ]
  },
  {
   "cell_type": "code",
   "execution_count": 6,
   "metadata": {},
   "outputs": [
    {
     "name": "stderr",
     "output_type": "stream",
     "text": [
      "100%|██████████| 102/102 [03:14<00:00,  1.91s/it]\n"
     ]
    }
   ],
   "source": [
    "import cv2,os,tqdm\n",
    "import numpy as np\n",
    "\n",
    "def Black_white_conversion(array):      ##   黑白转换\n",
    "    array = np.where(array==0,256,1)\n",
    "    return array-1\n",
    "\n",
    "image_file = r'D:\\31890\\Desktop\\codefile\\Utils\\time_seris\\mask_heidi'\n",
    "save_file =  r'D:\\31890\\Desktop\\codefile\\Utils\\time_seris\\mask_heidi_conversion'\n",
    "\n",
    "if not os.path.exists(save_file):\n",
    "    os.makedirs(save_file)\n",
    "\n",
    "for name in tqdm.tqdm(os.listdir(image_file)):\n",
    "    array = cv2.imread(os.path.join(image_file,name),cv2.IMREAD_GRAYSCALE) \n",
    "    array = Black_white_conversion(array)\n",
    "    cv2.imwrite(os.path.join(save_file,name),array)"
   ]
  },
  {
   "attachments": {},
   "cell_type": "markdown",
   "metadata": {},
   "source": [
    "##### demo8 衰老和正常根系提取，变换为表型检测格式"
   ]
  },
  {
   "cell_type": "code",
   "execution_count": 9,
   "metadata": {},
   "outputs": [
    {
     "data": {
      "text/plain": [
       "True"
      ]
     },
     "execution_count": 9,
     "metadata": {},
     "output_type": "execute_result"
    }
   ],
   "source": [
    "import cv2,os,tqdm\n",
    "import numpy as np\n",
    "image_file = r'D:\\31890\\Desktop\\codefile\\Utils\\time_seris\\shuailao\\2-2019-8-06-1200.png'\n",
    "\n",
    "array = cv2.imread(image_file,cv2.IMREAD_GRAYSCALE)\n",
    "h,w = array.shape\n",
    "normal_array = np.ones((h,w))*255\n",
    "senescence_array = np.ones((h,w))*255\n",
    "taproot_array = np.ones((h,w))*255\n",
    "\n",
    "normal_array[array==140]=0\n",
    "senescence_array[array==76]=0\n",
    "taproot_array[array==255]=0\n",
    "\n",
    "cv2.imwrite(r'D:\\31890\\Desktop\\codefile\\Utils\\normal_array.png',normal_array)\n",
    "cv2.imwrite(r'D:\\31890\\Desktop\\codefile\\Utils\\senescence_array.png',senescence_array)\n",
    "cv2.imwrite(r'D:\\31890\\Desktop\\codefile\\Utils\\taproot_array.png',taproot_array)"
   ]
  },
  {
   "attachments": {},
   "cell_type": "markdown",
   "metadata": {},
   "source": [
    "##### demo9 resize原图 加 生成黑白"
   ]
  },
  {
   "cell_type": "code",
   "execution_count": 2,
   "metadata": {},
   "outputs": [
    {
     "name": "stderr",
     "output_type": "stream",
     "text": [
      "100%|██████████| 12/12 [00:57<00:00,  4.79s/it]\n"
     ]
    }
   ],
   "source": [
    "import os\n",
    "import tqdm\n",
    "import numpy as np\n",
    "from PIL import Image\n",
    "import cv2\n",
    "Image.MAX_IMAGE_PIXELS = None\n",
    "\n",
    "def pixel_grayscale(image_file,o,o_r,h_f):\n",
    "    if not os.path.exists(o_r):\n",
    "        os.makedirs(o_r)\n",
    "    if not os.path.exists(h_f):\n",
    "        os.makedirs(h_f)\n",
    "    for name in tqdm.tqdm(os.listdir(image_file)):\n",
    "        o_rp = os.path.join(o_r,name.split('.')[0]+'.jpg')\n",
    "        hp = os.path.join(h_f,name)\n",
    "        img1 = cv2.imread(os.path.join(image_file,name),cv2.IMREAD_GRAYSCALE)\n",
    "        img2 = cv2.imread(os.path.join(o,name.split('.')[0]+'.jpg'))\n",
    "\n",
    "        h,w, = img1.shape\n",
    "        img2 = cv2.resize(img2,(w,h))\n",
    "        cv2.imwrite(o_rp,img2)\n",
    "\n",
    "        img1[img1!=0]=255\n",
    "        cv2.imwrite(hp,img1)\n",
    "\n",
    "\n",
    "\n",
    "image_file  = r\"D:\\31890\\Desktop\\1\"\n",
    "o  = r\"D:\\31890\\Desktop\\o\"\n",
    "o_r  = r\"D:\\31890\\Desktop\\o2r\"\n",
    "h  = r\"D:\\31890\\Desktop\\heibai\"\n",
    "pixel_grayscale(image_file,o,o_r,h)"
   ]
  },
  {
   "attachments": {},
   "cell_type": "markdown",
   "metadata": {},
   "source": [
    "##### demo10 无监督分割鸡蛋"
   ]
  },
  {
   "cell_type": "code",
   "execution_count": null,
   "metadata": {},
   "outputs": [],
   "source": [
    "import cv2,os,sklearn,tqdm\n",
    "import numpy as np\n",
    "import matplotlib.pyplot as plt\n",
    "from sklearn.cluster import KMeans,AgglomerativeClustering,MeanShift,SpectralClustering\n",
    "from utils import color\n",
    "from PIL import Image\n",
    "\n",
    "\n",
    "def Clustering(img_array,method=\"kmeans\"):\n",
    "    h,w,c = img_array.shape\n",
    "\n",
    "    img_array =  img_array.reshape(-1,3).astype(np.uint8)\n",
    "    if method == \"kmeans\":\n",
    "        classifier = KMeans(n_clusters=2,n_init=\"auto\",random_state=0,init='k-means++')\n",
    "    elif method == \"AgglomerativeClustering\":               # 不适用,计算量太大\n",
    "        classifier = AgglomerativeClustering(n_clusters=2)\n",
    "    elif method == \"MeanShift\":                             # 耗时过长\n",
    "        classifier = MeanShift(bandwidth=2)\n",
    "    elif method == \"SpectralClustering\":                    # 不适用,计算量太大\n",
    "        classifier = SpectralClustering(n_clusters=2)\n",
    "        \n",
    "    kmeans = classifier.fit(img_array)\n",
    "    img_label = kmeans.labels_\n",
    "    img_label = img_label.reshape(h,w)\n",
    "\n",
    "    return img_label\n",
    "\n",
    "\n",
    "img_file = r\"D:\\31890\\Desktop\\codefile\\Utils\\data\"\n",
    "save_file = r'D:\\31890\\Desktop\\codefile\\Utils\\result'\n",
    "\n",
    "if not os.path.exists(save_file):\n",
    "    os.makedirs(save_file)\n",
    "\n",
    "for name in tqdm.tqdm(os.listdir(img_file)):\n",
    "    image_path = os.path.join(img_file,name)\n",
    "    save_path = os.path.join(save_file,name)\n",
    "\n",
    "    image_array = cv2.imread(image_path)\n",
    "    img_label = Clustering(image_array,method=\"kmeans\")\n",
    "    img_label = color(img_label,colormap=[0, 0, 0,255,255,255])\n",
    "    img_label.save(save_path)"
   ]
  },
  {
   "attachments": {},
   "cell_type": "markdown",
   "metadata": {},
   "source": [
    "##### demo11 画椭圆"
   ]
  },
  {
   "cell_type": "code",
   "execution_count": null,
   "metadata": {},
   "outputs": [],
   "source": [
    "import matplotlib.pyplot as plt\n",
    "import numpy as np\n",
    "import random\n",
    "import cv2\n",
    "from numpy.random import randint as randint\n",
    " \n",
    "def ellipse(img):\n",
    "    h,w,c = img.shape\n",
    "\n",
    "    center_x = randint(w//2-10, high=w//2+10)  #随机绘制圆心\n",
    "    center_y = randint(h//2-10, high=h//2+10)\n",
    "    X = randint(360, 380)//2\n",
    "    Y = randint(460, 480)//2\n",
    "    # 参数 1.目标图片  2.椭圆圆心  3.长短轴长度  4.偏转角度  5.圆弧起始角度  6.终止角度  7.颜色  8.是否填充\n",
    "    cv2.ellipse(img, (center_x,center_y), (X,Y), randint(0,120), 0, 360, (255, 255, 255),-1)\n",
    "\n",
    "def main():\n",
    "    # 3.显示结果\n",
    "    number =15\n",
    "    max_shape=900\n",
    "    min_shape=670\n",
    "    for i in range(number):\n",
    "        img = np.ones((randint(min_shape, max_shape),randint(min_shape, max_shape) , 3), np.uint8)*0\n",
    "        ellipse(img)\n",
    " \n",
    "        imgpath = './fig/' + str(i) + '.jpg'\n",
    "        cv2.imwrite(imgpath, img)"
   ]
  },
  {
   "attachments": {},
   "cell_type": "markdown",
   "metadata": {},
   "source": [
    "##### demo12 黑白mask的24位图转8位图\n"
   ]
  },
  {
   "cell_type": "code",
   "execution_count": 1,
   "metadata": {},
   "outputs": [
    {
     "name": "stderr",
     "output_type": "stream",
     "text": [
      "100%|██████████| 18166/18166 [02:17<00:00, 132.03it/s]\n"
     ]
    }
   ],
   "source": [
    "import cv2,os,tqdm\n",
    "import numpy as np\n",
    "\n",
    "def pixel_grayscale(image_file,save_file):\n",
    "    if not os.path.exists(save_file):\n",
    "        os.makedirs(save_file)\n",
    "    for name in tqdm.tqdm(os.listdir(image_file)):\n",
    "        save_path = os.path.join(save_file,name)\n",
    "        img = cv2.imread(os.path.join(image_file,name),cv2.IMREAD_GRAYSCALE)\n",
    "        img = np.where(img>10,255,0)\n",
    "        \n",
    "        cv2.imwrite(save_path,img)\n",
    "image_file = r'D:\\31890\\Desktop\\data\\anno\\train'\n",
    "save_file  = r'D:\\31890\\Desktop\\data\\anno\\train_8'\n",
    "pixel_grayscale(image_file,save_file)"
   ]
  },
  {
   "attachments": {},
   "cell_type": "markdown",
   "metadata": {},
   "source": [
    "##### demo13  8位黑白图转为voc格式"
   ]
  },
  {
   "cell_type": "code",
   "execution_count": 9,
   "metadata": {},
   "outputs": [
    {
     "name": "stderr",
     "output_type": "stream",
     "text": [
      "  0%|          | 0/14100 [00:00<?, ?it/s]"
     ]
    },
    {
     "name": "stderr",
     "output_type": "stream",
     "text": [
      "100%|██████████| 14100/14100 [01:47<00:00, 131.70it/s]\n"
     ]
    }
   ],
   "source": [
    "def pixel_replacement(image_file,save_file):\n",
    "    for name in tqdm.tqdm(os.listdir(image_file)):\n",
    "        save_path = os.path.join(save_file,name)\n",
    "        image_path = os.path.join(image_file,name)\n",
    "        img = cv2.imread(image_path,cv2.IMREAD_GRAYSCALE)\n",
    "        img2 = np.where(img>0,1,0)\n",
    "        cv2.imwrite(save_path,img2)\n",
    "\n",
    "image_file = r'D:\\31890\\Desktop\\data\\anno\\test'\n",
    "save_file  = r'D:\\31890\\Desktop\\data\\anno\\test_voc'\n",
    "pixel_replacement(image_file,save_file)"
   ]
  },
  {
   "attachments": {},
   "cell_type": "markdown",
   "metadata": {},
   "source": [
    "##### 图像添加黑边方式"
   ]
  },
  {
   "cell_type": "code",
   "execution_count": null,
   "metadata": {},
   "outputs": [],
   "source": [
    "# 利用矩阵\n",
    "# 新的高和宽\n",
    "new_h = int((origin_h//pixel_shape+1)*pixel_shape)\n",
    "new_w = int((origin_w//pixel_shape+1)*pixel_shape)\n",
    "# 多余的尺寸\n",
    "h_padding = new_h-origin_h\n",
    "w_padding = new_w-origin_w\n",
    "# 创建新的矩阵\n",
    "img_b = np.zeros((new_h, new_w, c))\n",
    "mask = np.zeros((c,new_h, new_w))\n",
    "img_b[:origin_h, :origin_w, :] = img_array\n",
    "\n",
    "\n",
    "# 利用pillow\n",
    "img_new = Image.new('RGB', (w, h), color)\n",
    "img_new.paste(img_ori, (0, width, w, h))"
   ]
  }
 ],
 "metadata": {
  "kernelspec": {
   "display_name": "demo1",
   "language": "python",
   "name": "python3"
  },
  "language_info": {
   "codemirror_mode": {
    "name": "ipython",
    "version": 3
   },
   "file_extension": ".py",
   "mimetype": "text/x-python",
   "name": "python",
   "nbconvert_exporter": "python",
   "pygments_lexer": "ipython3",
   "version": "3.11.3"
  },
  "orig_nbformat": 4
 },
 "nbformat": 4,
 "nbformat_minor": 2
}
