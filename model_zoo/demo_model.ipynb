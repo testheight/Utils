{
 "cells": [
  {
   "cell_type": "markdown",
   "metadata": {},
   "source": [
    "## <font color=blue> 获取模型中间层输出"
   ]
  },
  {
   "cell_type": "markdown",
   "metadata": {},
   "source": [
    "#### 获取模型中间层输出一（IntermediateLayerGetter），只能获取一级模块"
   ]
  },
  {
   "cell_type": "code",
   "execution_count": null,
   "metadata": {},
   "outputs": [],
   "source": [
    "import torch\n",
    "import torchvision\n",
    "m = torchvision.models.resnet18(pretrained=True)\n",
    " # extract layer1 and layer3, giving as names `feat1` and feat2`\n",
    "new_m = torchvision.models._utils.IntermediateLayerGetter(m,{'layer1': 'feat1', 'layer2': 'feat2', 'layer3': 'feat3', 'layer4': 'feat4'})\n",
    "out = new_m(torch.rand(1, 3, 224, 224))\n",
    "# print(m)\n",
    "print([(k, v.shape) for k, v in out.items()])"
   ]
  },
  {
   "cell_type": "markdown",
   "metadata": {},
   "source": [
    "#### hook钩子获取模型中间层输出"
   ]
  },
  {
   "cell_type": "code",
   "execution_count": null,
   "metadata": {},
   "outputs": [],
   "source": [
    "import timm,torch\n",
    "import torch.nn as nn\n",
    "from model.model_arc.backbone import *\n",
    "\n",
    "class test_hook(nn.Module):\n",
    "    def __init__(self) -> None:\n",
    "        super().__init__()\n",
    "        self.features_in_hook= []\n",
    "        self.features_out_hook = []\n",
    "        # self.backbone = timm.create_model(\"mobilevitv2_200\",\n",
    "        #         features_only=True, output_stride=32,\n",
    "        #          out_indices=(1,2,3,4), pretrained=False, num_classes=0, global_pool='')\n",
    "        self.backbone = my_Swin_512()\n",
    "    \n",
    "    def forward(self,x):\n",
    "        hook = self.backbone.layers.blocks.register_forward_hook(hook=self.forward_hook)\n",
    "        hook1 = self.backbone.layers[2].blocks.register_forward_hook(hook=self.forward_hook)\n",
    "        hook2 = self.backbone.layers[3].blocks.register_forward_hook(hook=self.forward_hook)\n",
    "        x = self.backbone(x)\n",
    "        hook1.remove()\n",
    "        hook2.remove()\n",
    "        hook.remove()\n",
    "        self.features_out_hook\n",
    "        return x,self.features_out_hook\n",
    "\n",
    "    def forward_hook(self,module,data_input,data_output):\n",
    "        self.features_in_hook.append(data_input)\n",
    "        self.features_out_hook.append(data_output)\n",
    "\n",
    "net = test_hook()\n",
    "x = torch.rand(1,3,224,224)\n",
    "print(net)\n",
    "# for (name, module) in net.named_modules():\n",
    "#     print(name)\n",
    "# out1 = net(x)"
   ]
  },
  {
   "cell_type": "markdown",
   "metadata": {},
   "source": [
    "#### torchvision FX提取"
   ]
  },
  {
   "cell_type": "code",
   "execution_count": null,
   "metadata": {},
   "outputs": [],
   "source": [
    "import timm,torch\n",
    "from torchvision.models.feature_extraction import get_graph_node_names, create_feature_extractor\n",
    "\n",
    "model = timm.create_model(\"swin_base_patch4_window7_224\", pretrained=False, exportable=True)\n",
    "# print(model)\n",
    "\n",
    "# nodes, _ = get_graph_node_names(model)\n",
    "# print(nodes)\n",
    "\n",
    "features = {'layers.3.drop2': 'out'}\n",
    "feature_extractor = create_feature_extractor(model, return_nodes=features)\n",
    "print(feature_extractor)\n",
    "x = torch.rand(1,3,224,224)\n",
    "out=feature_extractor(x)\n",
    "print(out[\"out\"].shape)"
   ]
  },
  {
   "cell_type": "markdown",
   "metadata": {},
   "source": [
    "## <font color=blue> 模型库"
   ]
  },
  {
   "cell_type": "markdown",
   "metadata": {},
   "source": [
    "#### 模型操作"
   ]
  },
  {
   "cell_type": "code",
   "execution_count": null,
   "metadata": {},
   "outputs": [],
   "source": [
    "#打印整个模型和名字\n",
    "# for (name, module) in vit.named_modules():\n",
    "#     print(name)\n",
    "\n",
    "#打印模型参数\n",
    "# print(list(vit.encoder_layer_0.ln_1.named_parameters())[0])\n",
    "# print(vit.state_dict()['encoder.layers.encoder_layer_0.ln_1.weight'])\n",
    "\n",
    "# 截取模型中部分\n",
    "# net2 = torch.nn.Sequential(*list(vit.modules())[:2])\n",
    "# net2 = vit.encoder"
   ]
  },
  {
   "cell_type": "markdown",
   "metadata": {},
   "source": [
    "#### 本地库引用"
   ]
  },
  {
   "cell_type": "code",
   "execution_count": null,
   "metadata": {},
   "outputs": [],
   "source": [
    "from model.model_arc.backbone import *\n",
    "import torch,timm\n",
    "\n",
    "net = my_Swin_512()"
   ]
  },
  {
   "cell_type": "markdown",
   "metadata": {},
   "source": [
    "#### vit_pytorch库引用"
   ]
  },
  {
   "cell_type": "code",
   "execution_count": null,
   "metadata": {},
   "outputs": [],
   "source": [
    "# import torch\n",
    "# from vit_pytorch.mobile_vit import MobileViT\n",
    "\n",
    "# mbvit_xs = MobileViT(\n",
    "#     image_size = (256, 256),\n",
    "#     dims = [96, 120, 144],\n",
    "#     channels = [16, 32, 48, 48, 64, 64, 80, 80, 96, 96, 384],\n",
    "#     num_classes = 1000\n",
    "# )\n",
    "\n",
    "# img = torch.randn(1, 3, 256, 256)\n",
    "\n",
    "# pred = mbvit_xs(img) # (1, 1000)\n",
    "# print(pred.shape)\n",
    "# print(mbvit_xs)\n"
   ]
  },
  {
   "cell_type": "markdown",
   "metadata": {},
   "source": [
    "#### torchvision库引用"
   ]
  },
  {
   "cell_type": "code",
   "execution_count": null,
   "metadata": {},
   "outputs": [],
   "source": [
    "#torchvision.models 模型库操作\n",
    "import torch\n",
    "import torchvision.models as models\n",
    "\n",
    "net =  models.MobileNetV2()\n",
    "\n",
    "print(net)\n",
    "# x = torch.rand(1,3,224,224)\n",
    "# print(vit(x).shape)"
   ]
  },
  {
   "cell_type": "markdown",
   "metadata": {},
   "source": [
    "#### timm库引用"
   ]
  },
  {
   "cell_type": "code",
   "execution_count": null,
   "metadata": {},
   "outputs": [],
   "source": [
    "import timm\n",
    "import torch\n",
    "\n",
    "##  mobilevit_s\n",
    "net = timm.create_model(\"mobilenetv3_small_050\",)\n",
    "##  swinv2\n",
    "net = timm.models.swin_transformer_v2.swinv2_base_window8_256()\n",
    "\n",
    "print(net)\n",
    "o = net(torch.randn(2, 3, 512, 512))\n",
    "print(o.shape)"
   ]
  },
  {
   "cell_type": "markdown",
   "metadata": {},
   "source": [
    "#### smp库引用"
   ]
  },
  {
   "cell_type": "code",
   "execution_count": null,
   "metadata": {},
   "outputs": [],
   "source": [
    "import segmentation_models_pytorch as smp\n",
    "model = smp.Unet(encoder_weights=\"imagenet\",classes=2)\n",
    "print(model)"
   ]
  },
  {
   "cell_type": "markdown",
   "metadata": {},
   "source": [
    "#### 模型计算量测试"
   ]
  },
  {
   "cell_type": "code",
   "execution_count": null,
   "metadata": {},
   "outputs": [],
   "source": [
    "import torch\n",
    "import torch.nn as nn\n",
    "from thop import profile\n",
    "\n",
    "import timm\n",
    "import torchvision.models as models\n",
    "from model.model_arc.my_model import *\n",
    "# from vit_pytorch.mobile_vit import MobileViT\n",
    "import segmentation_models_pytorch as smp\n",
    "\n",
    "#timm库\n",
    "# net = timm.create_model('resnet18', pretrained=False)\n",
    "#torchvision\n",
    "# net =  models.resnet50(pretrained=False)\n",
    "#本地库\n",
    "# net = my_timm_swin_Hook()\n",
    "#smp\n",
    "# net = smp.DeepLabV3Plus(encoder_weights=\"imagenet\",classes=2)\n",
    "\n",
    "#模型块测试\n",
    "\n",
    "\n",
    "# print(net)\n",
    "\n",
    "# 测试模型参数量和计算量\n",
    "x = torch.rand(1,3,256,256)\n",
    "flops , params = profile(net,inputs=(x,))\n",
    "print(flops)\n",
    "print(params)"
   ]
  },
  {
   "cell_type": "code",
   "execution_count": null,
   "metadata": {},
   "outputs": [],
   "source": [
    "from keras import  Sequential\n",
    "from keras import  callbacks\n",
    "from keras.callbacks import ModelCheckpoint\n",
    "from keras.models import load_model\n",
    "from keras.utils.vis_utils import plot_model\n",
    "from keras.layers import Conv1D, MaxPooling1D, GlobalAveragePooling1D, LSTM,Dense,Bidirectional,Dropout,Flatten\n",
    "import matplotlib.pyplot as plt\n",
    "import numpy as np\n",
    "import pandas as pd\n"
   ]
  }
 ],
 "metadata": {
  "kernelspec": {
   "display_name": "base",
   "language": "python",
   "name": "python3"
  },
  "language_info": {
   "codemirror_mode": {
    "name": "ipython",
    "version": 3
   },
   "file_extension": ".py",
   "mimetype": "text/x-python",
   "name": "python",
   "nbconvert_exporter": "python",
   "pygments_lexer": "ipython3",
   "version": "3.9.7 (default, Sep 16 2021, 16:59:28) [MSC v.1916 64 bit (AMD64)]"
  },
  "orig_nbformat": 4,
  "vscode": {
   "interpreter": {
    "hash": "b72bce0f774da0affb1409740e09e5f72c8a559958be0d948f9a4e26f76c5539"
   }
  }
 },
 "nbformat": 4,
 "nbformat_minor": 2
}
