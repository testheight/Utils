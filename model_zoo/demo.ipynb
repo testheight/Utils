{
 "cells": [
  {
   "cell_type": "code",
   "execution_count": 5,
   "metadata": {},
   "outputs": [
    {
     "name": "stdout",
     "output_type": "stream",
     "text": [
      "torch.Size([1, 2, 512, 512])\n"
     ]
    }
   ],
   "source": [
    "from timm.models.layers import  trunc_normal_,_assert,PatchEmbed\n",
    "import torch.nn as nn\n",
    "import torch,math\n",
    "from einops import rearrange\n",
    "from thop import profile\n",
    "\n",
    "#setr解码头\n",
    "class SETR_up_decoder(nn.Module):\n",
    "    '''\n",
    "    \n",
    "    '''\n",
    "    def __init__(self, in_channels, out_channels, features=[512, 256, 128, 64]):\n",
    "        super().__init__()\n",
    "        self.decoder_1 = nn.Sequential(\n",
    "                    nn.Conv2d(in_channels, features[0], 3, padding=1),\n",
    "                    nn.BatchNorm2d(features[0]),\n",
    "                    nn.ReLU(inplace=True),\n",
    "                    nn.Upsample(scale_factor=2, mode=\"bilinear\", align_corners=True)\n",
    "                )\n",
    "        self.decoder_2 = nn.Sequential(\n",
    "                    nn.Conv2d(features[0], features[1], 3, padding=1),\n",
    "                    nn.BatchNorm2d(features[1]),\n",
    "                    nn.ReLU(inplace=True),\n",
    "                    nn.Upsample(scale_factor=2, mode=\"bilinear\", align_corners=True)\n",
    "                )\n",
    "        self.decoder_3 = nn.Sequential(\n",
    "            nn.Conv2d(features[1], features[2], 3, padding=1),\n",
    "            nn.BatchNorm2d(features[2]),\n",
    "            nn.ReLU(inplace=True),\n",
    "            nn.Upsample(scale_factor=4, mode=\"bilinear\", align_corners=True)\n",
    "        )\n",
    "        self.decoder_4 = nn.Sequential(\n",
    "            nn.Conv2d(features[2], features[3], 3, padding=1),\n",
    "            nn.BatchNorm2d(features[3]),\n",
    "            nn.ReLU(inplace=True),\n",
    "            nn.Upsample(scale_factor=2, mode=\"bilinear\", align_corners=True)\n",
    "        )\n",
    "        self.final_out = nn.Conv2d(features[-1], out_channels, 3, padding=1)\n",
    "    def forward(self, x):\n",
    "        if len(x.shape)==3:\n",
    "            b,l,c = x.shape\n",
    "            h = w = int(math.sqrt(l))\n",
    "            x= rearrange(x,' b (h w) c->b c h w',h=h,w=w)\n",
    "        x = self.decoder_1(x)\n",
    "        x = self.decoder_2(x)\n",
    "        x = self.decoder_3(x)\n",
    "        x = self.decoder_4(x)\n",
    "        x = self.final_out(x)\n",
    "        return x\n",
    "\n",
    "x = torch.rand(1, 256, 1024)\n",
    "\n",
    "net = SETR_up_decoder(in_channels=1024, out_channels=2,)\n",
    "y = net(x)\n",
    "print(y.shape)"
   ]
  },
  {
   "cell_type": "code",
   "execution_count": 6,
   "metadata": {},
   "outputs": [
    {
     "name": "stderr",
     "output_type": "stream",
     "text": [
      "100%|██████████| 103/103 [43:04<00:00, 25.09s/it]\n"
     ]
    }
   ],
   "source": [
    "#测试模型输出\n",
    "import torch,numpy,sys,os,tqdm,timm\n",
    "from PIL import Image\n",
    "sys.path.append('D:\\software\\Code\\code-file\\pytorch-template')\n",
    "import numpy as np\n",
    "from PIL import Image\n",
    "from torchvision import transforms\n",
    "Image.MAX_IMAGE_PIXELS = None\n",
    "\n",
    "strides = 512\n",
    "\n",
    "#路径设置\n",
    "image_file = r'D:\\software\\code\\code-file\\image\\mydata\\root\\2'\n",
    "checkpoint_pth = r'D:\\software\\code\\code-file\\pytorch-template\\saved\\models\\10_4-timm_model_FX-mobilevitv2_200-MyDataLoader_512-focal_loss-ExponentialLR-Adam-batch_size6-test1\\1004_165210\\checkpoint-epoch80.pth'\n",
    "save_file = r'D:\\software\\code\\code-file\\image\\mydata\\root_pre\\2_mobilevitv2_200'\n",
    "if not os.path.exists(save_file):\n",
    "    os.makedirs(save_file)\n",
    "\n",
    "net = model.timm_test()\n",
    "checkpoint = torch.load(checkpoint_pth,map_location='cuda')\n",
    "state_dict = checkpoint['state_dict']\n",
    "device = torch.device('cuda' if torch.cuda.is_available() else 'cpu')\n",
    "net.load_state_dict(state_dict,False)\n",
    "net = net.to(device)\n",
    "net.eval()\n",
    "\n",
    "to_tensor = transforms.ToTensor()\n",
    "\n",
    "for image in tqdm.tqdm(os.listdir(image_file)):\n",
    "    iamge_path = os.path.join(image_file,image)\n",
    "    save_path = os.path.join(save_file,image)\n",
    "    image = Image.open(iamge_path).convert(\"RGB\")\n",
    "    image = np.array(image)\n",
    "    h,w,c  =  image.shape\n",
    "    h_n = h//strides\n",
    "    w_n = w//strides\n",
    "    h = h_n*strides\n",
    "    w = w_n*strides\n",
    "\n",
    "    pre_result = np.empty((h,w))\n",
    "    for i in range(h_n):\n",
    "        for j in range(w_n):\n",
    "            x = strides*i\n",
    "            y = strides*j\n",
    "\n",
    "            sub_image = image[x:x + strides , y:y + strides]\n",
    "            sub_image_T = to_tensor(sub_image).unsqueeze(dim=0).to(device)\n",
    "            pre = net(sub_image_T)\n",
    "            pre = torch.squeeze(torch.argmax(pre, dim=1))\n",
    "            pre = pre.cpu().numpy()\n",
    "            pre_result[x:x + strides , y:y + strides] = pre\n",
    "    pre_image = Image.fromarray((pre_result*255).astype(np.uint8))\n",
    "    pre_image.save(save_path)\n"
   ]
  },
  {
   "cell_type": "code",
   "execution_count": 2,
   "metadata": {},
   "outputs": [
    {
     "name": "stdout",
     "output_type": "stream",
     "text": [
      "0\n"
     ]
    }
   ],
   "source": [
    "#测试模型输出\n",
    "import torch,numpy,sys,os,tqdm,timm,model\n",
    "from PIL import Image\n",
    "sys.path.append('D:\\software\\Code\\code-file\\pytorch-template')\n",
    "import numpy as np\n",
    "from PIL import Image\n",
    "from torchvision import transforms\n",
    "Image.MAX_IMAGE_PIXELS = None\n",
    "\n",
    "\n",
    "#路径设置\n",
    "image_path = r'D:\\software\\code\\code-file\\image\\mydata\\root_data2\\imgs\\test\\48_3_2.jpg'\n",
    "checkpoint_pth = r'D:\\software\\code\\code-file\\pytorch-template\\saved\\models\\10_4-timm_model_FX-mobilevitv2_200-MyDataLoader_512-focal_loss-ExponentialLR-Adam-batch_size6-test1\\1004_165210\\checkpoint-epoch80.pth'\n",
    "\n",
    "net = model.timm_test()\n",
    "checkpoint = torch.load(checkpoint_pth,map_location='cuda')\n",
    "state_dict = checkpoint['state_dict']\n",
    "device = torch.device('cuda' if torch.cuda.is_available() else 'cpu')\n",
    "net.load_state_dict(state_dict,False)\n",
    "net = net.to(device)\n",
    "net.eval()\n",
    "     \n",
    "\n",
    "with torch.no_grad():\n",
    "    image = Image.open(image_path)\n",
    "    to_tensor = transforms.ToTensor()\n",
    "    image = to_tensor(image).unsqueeze(dim=0).to(device)\n",
    "    output = net(image)\n",
    "    pred = torch.squeeze(torch.argmax(output, dim=1))\n",
    "    img = pred.cpu().numpy()\n",
    "    num = numpy.sum(img==1)\n",
    "    print(num)\n",
    "    img = numpy.where(img==1,255,0)\n",
    "    img = Image.fromarray(numpy.uint8(img))\n",
    "    img.save(r\"D:\\31890\\Desktop\\1.png\")"
   ]
  }
 ],
 "metadata": {
  "kernelspec": {
   "display_name": "base",
   "language": "python",
   "name": "python3"
  },
  "language_info": {
   "codemirror_mode": {
    "name": "ipython",
    "version": 3
   },
   "file_extension": ".py",
   "mimetype": "text/x-python",
   "name": "python",
   "nbconvert_exporter": "python",
   "pygments_lexer": "ipython3",
   "version": "3.9.7 (default, Sep 16 2021, 16:59:28) [MSC v.1916 64 bit (AMD64)]"
  },
  "orig_nbformat": 4,
  "vscode": {
   "interpreter": {
    "hash": "b72bce0f774da0affb1409740e09e5f72c8a559958be0d948f9a4e26f76c5539"
   }
  }
 },
 "nbformat": 4,
 "nbformat_minor": 2
}
